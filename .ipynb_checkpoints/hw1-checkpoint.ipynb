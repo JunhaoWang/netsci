{
 "cells": [
  {
   "cell_type": "markdown",
   "metadata": {},
   "source": [
    "# import data"
   ]
  },
  {
   "cell_type": "code",
   "execution_count": 1,
   "metadata": {},
   "outputs": [],
   "source": [
    "import numpy as np\n",
    "from tqdm import tqdm"
   ]
  },
  {
   "cell_type": "code",
   "execution_count": null,
   "metadata": {},
   "outputs": [],
   "source": [
    "with open('datasets/www.edgelist.txt', 'r') as f:\n",
    "    txt = f.readlines()\n",
    "    txt = list(map(lambda x: x.replace('\\n', '').split('\\t'), txt))\n",
    "    txt = [i for i in txt if i[0].isdigit()]\n",
    "    txt = list(map(lambda x: [int(x[0]), int(x[1])], txt))\n",
    "    txt = np.array(txt)\n",
    "\n",
    "num_node = np.max(txt) + 1"
   ]
  },
  {
   "cell_type": "code",
   "execution_count": 2,
   "metadata": {},
   "outputs": [],
   "source": [
    "from scipy.sparse import dok_matrix, csr_matrix\n",
    "from scipy import float32"
   ]
  },
  {
   "cell_type": "code",
   "execution_count": null,
   "metadata": {},
   "outputs": [],
   "source": [
    "S = dok_matrix((num_node,num_node), dtype=float32)\n",
    " \n",
    "for i in tqdm(txt):\n",
    "    if i[0] < i[1]:\n",
    "        S[i[0],i[1]] = 1.\n",
    "        S[i[1],i[0]] = 1.\n",
    "    \n",
    "S = S.tocsr()"
   ]
  },
  {
   "cell_type": "code",
   "execution_count": 3,
   "metadata": {},
   "outputs": [],
   "source": [
    "from scipy.sparse import save_npz, load_npz"
   ]
  },
  {
   "cell_type": "code",
   "execution_count": 4,
   "metadata": {},
   "outputs": [],
   "source": [
    "# save_npz('datasets/www_in.npz', S)"
   ]
  },
  {
   "cell_type": "code",
   "execution_count": 13,
   "metadata": {},
   "outputs": [],
   "source": [
    "S = load_npz('datasets/follower_filter_sparse.npz')"
   ]
  },
  {
   "cell_type": "code",
   "execution_count": 14,
   "metadata": {},
   "outputs": [],
   "source": [
    "num_node = S.shape[0]"
   ]
  },
  {
   "cell_type": "code",
   "execution_count": 15,
   "metadata": {},
   "outputs": [
    {
     "data": {
      "text/plain": [
       "118299"
      ]
     },
     "execution_count": 15,
     "metadata": {},
     "output_type": "execute_result"
    }
   ],
   "source": [
    "num_node"
   ]
  },
  {
   "cell_type": "code",
   "execution_count": null,
   "metadata": {},
   "outputs": [],
   "source": []
  },
  {
   "cell_type": "markdown",
   "metadata": {},
   "source": [
    "# p1"
   ]
  },
  {
   "cell_type": "markdown",
   "metadata": {},
   "source": [
    "### (a) degree distribution"
   ]
  },
  {
   "cell_type": "code",
   "execution_count": 20,
   "metadata": {},
   "outputs": [
    {
     "data": {
      "image/png": "[encoded data removed]",
      "text/plain": [
       "<Figure size 432x288 with 1 Axes>"
      ]
     },
     "metadata": {
      "needs_background": "light"
     },
     "output_type": "display_data"
    }
   ],
   "source": [
    "# %%time\n",
    "\n",
    "degrees = np.asarray(S.sum(axis=1)).reshape(-1)\n",
    "\n",
    "from collections import Counter\n",
    "\n",
    "degree_counts = np.array([[np.log(d + 1), np.log(c)] for (d, c) in  Counter(degrees).items()])\n",
    "\n",
    "import matplotlib.pyplot as plt\n",
    "\n",
    "def least_squares(x, y):\n",
    "    x_ = np.concatenate((x, np.ones(x.shape)), axis=1)\n",
    "    return np.dot(np.linalg.inv(np.dot(x_.T, x_)), np.dot(x_.T, y))\n",
    "\n",
    "x, y = degree_counts[:,0].reshape(-1,1), degree_counts[:,1].reshape(-1,1)\n",
    "\n",
    "[slope, bias] = least_squares(x, y).reshape(-1).tolist()\n",
    "\n",
    "def infer_y(x, slope, bias):\n",
    "    return x * slope + bias\n",
    "\n",
    "v_infer_y = np.vectorize(lambda x: infer_y(x, slope, bias))\n",
    "\n",
    "inferred_y = v_infer_y(x)\n",
    "\n",
    "plt.scatter(x, y)\n",
    "plt.plot(x, inferred_y, c='orange')\n",
    "# plt.text(.1, .1, 'slope: {}, bias: {}'.format(str(round(slope, 2)), str(round(bias, 2))), \n",
    "#          fontsize=12)\n",
    "plt.xlabel('log(degree+1)')\n",
    "plt.ylabel('log(count)')\n",
    "plt.title('degree distribution plot, slope: {}, bias: {}'.format(str(round(slope, 2)), str(round(bias, 2))))\n",
    "plt.show()"
   ]
  },
  {
   "cell_type": "markdown",
   "metadata": {},
   "source": [
    "### (a.2) subsampling"
   ]
  },
  {
   "cell_type": "code",
   "execution_count": 10,
   "metadata": {},
   "outputs": [],
   "source": [
    "# rand_idx = np.random.choice(np.array(list(range(num_node))), size = 5000, replace = False)\n",
    "\n",
    "\n",
    "# S = S[rand_idx,:][:, rand_idx]\n",
    "\n",
    "# num_node = 5000\n",
    "# degrees = degrees[rand_idx]\n"
   ]
  },
  {
   "cell_type": "markdown",
   "metadata": {},
   "source": [
    "### (b) clustering coefficients"
   ]
  },
  {
   "cell_type": "code",
   "execution_count": 11,
   "metadata": {},
   "outputs": [
    {
     "name": "stderr",
     "output_type": "stream",
     "text": [
      "C:\\Users\\Junhao\\Anaconda3\\lib\\site-packages\\ipykernel_launcher.py:5: RuntimeWarning: invalid value encountered in true_divide\n",
      "  \"\"\"\n"
     ]
    },
    {
     "data": {
      "image/png": "[encoded data removed]",
      "text/plain": [
       "<Figure size 432x288 with 1 Axes>"
      ]
     },
     "metadata": {
      "needs_background": "light"
     },
     "output_type": "display_data"
    }
   ],
   "source": [
    "# %%time\n",
    "\n",
    "S_3 = S.dot(S).dot(S)\n",
    "\n",
    "clusterings = np.nan_to_num(S_3.diagonal() / (degrees * (degrees - 1)))\n",
    "\n",
    "clustering_mean = np.mean(clusterings)\n",
    "\n",
    "clustering_counts = np.array([[cl, np.log(c)] \\\n",
    "    for (cl, c) in  Counter(clusterings).items()])\n",
    "\n",
    "x, y = clustering_counts[:,0].reshape(-1,1), \\\n",
    "    clustering_counts[:,1].reshape(-1,1)\n",
    "\n",
    "plt.scatter(x, y, alpha=0.1)\n",
    "# plt.text(x[0], y[0]  , 'local clustering mean: {}'.format(str(round(clustering_mean,2))), \n",
    "#          fontsize=12)\n",
    "plt.xlabel('local clustering')\n",
    "plt.ylabel('log(count)')\n",
    "plt.title('local clustering distribution plot, local clustering mean: {}'.format(str(round(clustering_mean,2))))\n",
    "plt.show()"
   ]
  },
  {
   "cell_type": "markdown",
   "metadata": {},
   "source": [
    "### (c) shortest path distribution"
   ]
  },
  {
   "cell_type": "code",
   "execution_count": 19,
   "metadata": {},
   "outputs": [],
   "source": [
    "# %%time\n",
    "if num_node > 40000:\n",
    "    sub_size = 40000\n",
    "    rand_idx = np.random.choice(np.array(list(range(num_node))), size = sub_size, replace = False)\n",
    "    S_sub = S[rand_idx,:][:, rand_idx]\n",
    "    num_node_sub = sub_size\n",
    "    degrees_sub = degrees[rand_idx]\n",
    "else:\n",
    "    S_sub = S\n",
    "    num_node_sub = num_node\n",
    "    degrees_sub = degrees"
   ]
  },
  {
   "cell_type": "code",
   "execution_count": null,
   "metadata": {
    "scrolled": true
   },
   "outputs": [
    {
     "name": "stderr",
     "output_type": "stream",
     "text": [
      "100%|████████████████████████████████████████████████████████████████████████████| 40000/40000 [51:13<00:00, 13.01it/s]\n"
     ]
    }
   ],
   "source": [
    "from collections import defaultdict\n",
    "\n",
    "row_nonzero, col_nonzero = S_sub.nonzero()\n",
    "\n",
    "aja_list = defaultdict(list)\n",
    "\n",
    "for ind, i in enumerate(row_nonzero):\n",
    "    aja_list[i].append(col_nonzero[ind])\n",
    "\n",
    "from collections import deque\n",
    "\n",
    "from tqdm import tqdm\n",
    "\n",
    "all_dist = defaultdict(dict)\n",
    "for i in tqdm(range(num_node_sub)):\n",
    "    all_dist[i][i] = 0\n",
    "    neighs = aja_list[i]\n",
    "    queue = deque()\n",
    "    for j in neighs:\n",
    "        all_dist[i][j] = 1\n",
    "        queue.append((j, 1))\n",
    "    if queue:\n",
    "        while queue:\n",
    "            cur_node, cur_dis = queue.popleft()\n",
    "            neighs = aja_list[cur_node]\n",
    "            for j in neighs:\n",
    "                if j not in all_dist[i]:\n",
    "                    all_dist[i][j] = cur_dis + 1\n",
    "                    queue.append((j, cur_dis + 1))\n",
    " \n",
    "all_dist_vals = []\n",
    "for i in all_dist:\n",
    "    temp = all_dist[i]\n",
    "    for j in temp:\n",
    "        all_dist_vals.append(temp[j])\n",
    "\n",
    "shortest_path_mean = np.mean(all_dist_vals)\n",
    "\n",
    "inf_dist_count = num_node_sub * num_node_sub - len(all_dist_vals)\n",
    "\n",
    "all_dist_val_counts = Counter(all_dist_vals)\n",
    "# all_dist_val_counts[num_node] = inf_dist_count\n",
    "\n",
    "all_dist_val_counts = np.array([[np.log(pl + 1), np.log(c)] \\\n",
    "    for (pl, c) in  all_dist_val_counts.items()])\n",
    "\n",
    "\n",
    "x, y = all_dist_val_counts[:,0].reshape(-1,1), all_dist_val_counts[:,1].reshape(-1,1)\n",
    "\n",
    "plt.scatter(x, y)\n",
    "plt.text(x[0], y[0] // 2, 'shortest path length mean: {}'.format(round(shortest_path_mean,2)), \n",
    "         fontsize=12)\n",
    "plt.xlabel('log(shortest path length+1)')\n",
    "plt.ylabel('log(count)')\n",
    "plt.title('all pair shortest path length distribution plot')\n",
    "plt.show()"
   ]
  },
  {
   "cell_type": "markdown",
   "metadata": {},
   "source": [
    "### (d) number of connected components, the portion of nodes that are in the GCC"
   ]
  },
  {
   "cell_type": "code",
   "execution_count": 201,
   "metadata": {},
   "outputs": [
    {
     "name": "stderr",
     "output_type": "stream",
     "text": [
      "\n",
      "\n",
      "\n",
      "\n",
      "\n",
      "  0%|                                                                                         | 0/4941 [00:00<?, ?it/s]\n",
      "\n",
      "\n",
      "\n",
      "\n",
      "100%|██████████████████████████████████████████████████████████████████████████| 4941/4941 [00:00<00:00, 381097.02it/s]"
     ]
    },
    {
     "name": "stdout",
     "output_type": "stream",
     "text": [
      "number of connected component:  1\n",
      "portion of nodes in giant connected component:  1.0\n"
     ]
    }
   ],
   "source": [
    "# %%time\n",
    "\n",
    "all_comp = {}\n",
    "base_comp = 0\n",
    "for i in tqdm(range(num_node_sub)):\n",
    "    if i not in all_comp:\n",
    "        all_comp[i] = base_comp\n",
    "        neighs = aja_list[i]\n",
    "        queue = deque()\n",
    "        for j in neighs:\n",
    "            all_comp[j] = base_comp\n",
    "            queue.append((j, base_comp))\n",
    "        if queue:\n",
    "            while queue:\n",
    "                cur_node, cur_dis = queue.popleft()\n",
    "                neighs = aja_list[cur_node]\n",
    "                for j in neighs:\n",
    "                    if j not in all_comp:\n",
    "                        all_comp[j] = base_comp\n",
    "                        queue.append((j, base_comp))\n",
    "        base_comp += 1\n",
    "\n",
    "\n",
    "components = np.array(list(all_comp.values()))\n",
    "\n",
    "component_counter = Counter(components)\n",
    "\n",
    "print('number of connected component: ', len(component_counter))\n",
    "print('portion of nodes in giant connected component: ', round(max(component_counter.values()) / num_node, 2))"
   ]
  },
  {
   "cell_type": "markdown",
   "metadata": {},
   "source": [
    "### (e) eigenvalue distribution (compute the spectral gap)"
   ]
  },
  {
   "cell_type": "code",
   "execution_count": 10,
   "metadata": {},
   "outputs": [
    {
     "data": {
      "image/png": "[encoded data removed]",
      "text/plain": [
       "<Figure size 432x288 with 1 Axes>"
      ]
     },
     "metadata": {
      "needs_background": "light"
     },
     "output_type": "display_data"
    }
   ],
   "source": [
    "# %%time\n",
    "\n",
    "import scipy\n",
    "\n",
    "from scipy.sparse import linalg, diags\n",
    "\n",
    "degree_diagonal = diags(degrees, 0)\n",
    "\n",
    "laplacian = degree_diagonal  - S\n",
    "\n",
    "eigen_vals = linalg.eigsh(laplacian, k = 20, return_eigenvectors=False)\n",
    "\n",
    "eigen_vals = sorted(eigen_vals, reverse=True)\n",
    "\n",
    "eigen_gap = eigen_vals[0] - eigen_vals[1]\n",
    "\n",
    "import seaborn as sns\n",
    "import matplotlib.pyplot as plt\n",
    "\n",
    "sns.distplot(eigen_vals)\n",
    "plt.title('top 20 laplacian eigenvalue distribution, eigengap: {}'.format(str(round(eigen_gap,2))))\n",
    "plt.xlabel('eigenvalue')\n",
    "plt.ylabel('density')\n",
    "plt.show()"
   ]
  },
  {
   "cell_type": "markdown",
   "metadata": {},
   "source": [
    "### (f) degree correlations (plot as scatter di vs dj , also report the overall correlation)."
   ]
  },
  {
   "cell_type": "code",
   "execution_count": 158,
   "metadata": {},
   "outputs": [],
   "source": [
    "# # %%time\n",
    "\n",
    "# degree_vector = csr_matrix(degrees.reshape(-1, 1))\n",
    "\n",
    "# avg_neighbor_degree = np.nan_to_num(np.asarray(S.dot(degree_vector) / degree_vector.reshape(-1,1))).reshape(-1)\n",
    "\n",
    "# degree_correlation = defaultdict(list)\n",
    "# for ind, i in enumerate(degrees):\n",
    "#     degree_correlation[int(i)].append(avg_neighbor_degree[ind])\n",
    "# x = []\n",
    "# y = []\n",
    "# for i in degree_correlation:\n",
    "#     x.append(i)\n",
    "#     y.append(np.mean(degree_correlation[i]))\n",
    "# x = np.array(x) \n",
    "# y = np.array(y) \n",
    "\n",
    "# [slope, bias] = least_squares(x.reshape(-1,1), y.reshape(-1,1)).reshape(-1).tolist()\n",
    "\n",
    "# inferred_y = v_infer_y(x)\n",
    "\n",
    "# plt.scatter(x,y)\n",
    "# plt.plot(x, inferred_y, c='orange')\n",
    "# plt.title('degree correlation plot')\n",
    "# plt.xlabel('degree')\n",
    "# plt.ylabel('average neighbour degree')\n",
    "# plt.text(.1, .1, 'degree correlation coefficient: {}'.format(round(slope, 2)), \n",
    "#          fontsize=12)\n",
    "# plt.show()"
   ]
  },
  {
   "cell_type": "markdown",
   "metadata": {},
   "source": [
    "### (f.2) degree correlations (plot as scatter di vs dj , also report the overall correlation)."
   ]
  },
  {
   "cell_type": "code",
   "execution_count": 12,
   "metadata": {},
   "outputs": [
    {
     "data": {
      "text/plain": [
       "Text(0, 0.5, 'right degree')"
      ]
     },
     "execution_count": 12,
     "metadata": {},
     "output_type": "execute_result"
    },
    {
     "data": {
      "image/png": "[encoded data removed]",
      "text/plain": [
       "<Figure size 432x288 with 1 Axes>"
      ]
     },
     "metadata": {
      "needs_background": "light"
     },
     "output_type": "display_data"
    }
   ],
   "source": [
    "# %%time\n",
    "row_nonzero, col_nonzero = S.nonzero()\n",
    "x = []\n",
    "y = []\n",
    "for ind, i in enumerate(row_nonzero):\n",
    "    j = col_nonzero[ind]\n",
    "    x.append(degrees[i])\n",
    "    y.append(degrees[j])\n",
    "x = np.array(x)\n",
    "y = np.array(y)\n",
    "\n",
    "from scipy.stats import pearsonr\n",
    "\n",
    "asso_coef = pearsonr(x, y)[0]\n",
    "\n",
    "plt.scatter(x,y,alpha=.1)\n",
    "plt.title('assortativity plot, coef = {}'.format(str(round(asso_coef, 2))))\n",
    "plt.xlabel('left degree')\n",
    "plt.ylabel('right degree')"
   ]
  },
  {
   "cell_type": "code",
   "execution_count": 17,
   "metadata": {},
   "outputs": [
    {
     "data": {
      "text/plain": [
       "0.0005384479189360668"
      ]
     },
     "execution_count": 17,
     "metadata": {},
     "output_type": "execute_result"
    }
   ],
   "source": [
    "S.sum() / S.shape[0]**2"
   ]
  },
  {
   "cell_type": "code",
   "execution_count": 42,
   "metadata": {},
   "outputs": [],
   "source": [
    "# %%time\n",
    "row_nonzero, col_nonzero = S.nonzero()\n",
    "x_c = []\n",
    "y_c= []\n",
    "for ind, i in enumerate(row_nonzero):\n",
    "    j = col_nonzero[ind]\n",
    "    x_c.append(degrees[i])\n",
    "    y_c.append(degrees[j])\n",
    "x_c = np.array(x_c)\n",
    "y_c = np.array(y_c)\n",
    "\n",
    "from scipy.stats import pearsonr\n",
    "\n",
    "asso_coef = pearsonr(x_c, y_c)[0]"
   ]
  },
  {
   "cell_type": "code",
   "execution_count": 43,
   "metadata": {},
   "outputs": [
    {
     "data": {
      "image/png": "[encoded data removed]",
      "text/plain": [
       "<Figure size 432x288 with 1 Axes>"
      ]
     },
     "metadata": {
      "needs_background": "light"
     },
     "output_type": "display_data"
    }
   ],
   "source": [
    "plt.cla()"
   ]
  },
  {
   "cell_type": "code",
   "execution_count": 44,
   "metadata": {},
   "outputs": [],
   "source": [
    "r_idx = np.random.choice(list(range(len(x_c))), size = 10000)"
   ]
  },
  {
   "cell_type": "code",
   "execution_count": 45,
   "metadata": {},
   "outputs": [],
   "source": [
    "x_c_r = x_c[r_idx]\n",
    "y_c_r = y_c[r_idx]"
   ]
  },
  {
   "cell_type": "code",
   "execution_count": 46,
   "metadata": {},
   "outputs": [
    {
     "data": {
      "text/plain": [
       "Text(0, 0.5, 'right degree')"
      ]
     },
     "execution_count": 46,
     "metadata": {},
     "output_type": "execute_result"
    },
    {
     "data": {
      "image/png": "[encoded data removed]",
      "text/plain": [
       "<Figure size 432x288 with 1 Axes>"
      ]
     },
     "metadata": {
      "needs_background": "light"
     },
     "output_type": "display_data"
    }
   ],
   "source": [
    "\n",
    "plt.scatter(x_c_r,y_c_r,alpha=.1)\n",
    "plt.title('assortativity plot, coef = {}'.format(str(round(asso_coef, 2))))\n",
    "plt.xlabel('left degree')\n",
    "plt.ylabel('right degree')"
   ]
  },
  {
   "cell_type": "code",
   "execution_count": 56,
   "metadata": {},
   "outputs": [],
   "source": [
    "import pickle\n",
    "user_l = pickle.load(open('../final_data/user_l', 'rb'))"
   ]
  },
  {
   "cell_type": "code",
   "execution_count": 57,
   "metadata": {},
   "outputs": [
    {
     "data": {
      "text/plain": [
       "288704"
      ]
     },
     "execution_count": 57,
     "metadata": {},
     "output_type": "execute_result"
    }
   ],
   "source": [
    "len(user_l)"
   ]
  },
  {
   "cell_type": "code",
   "execution_count": 53,
   "metadata": {},
   "outputs": [
    {
     "data": {
      "text/plain": [
       "[8771.0,\n",
       " 8487.0,\n",
       " 8320.0,\n",
       " 6449.0,\n",
       " 6134.0,\n",
       " 6057.0,\n",
       " 5992.0,\n",
       " 5879.0,\n",
       " 5827.0,\n",
       " 5821.0,\n",
       " 5605.0,\n",
       " 5463.0,\n",
       " 5365.0,\n",
       " 5293.0,\n",
       " 5202.0,\n",
       " 4699.0,\n",
       " 4543.0,\n",
       " 4421.0,\n",
       " 4334.0,\n",
       " 4208.0,\n",
       " 4143.0,\n",
       " 3994.0,\n",
       " 3969.0,\n",
       " 3847.0,\n",
       " 3795.0,\n",
       " 3790.0,\n",
       " 3788.0,\n",
       " 3769.0,\n",
       " 3728.0,\n",
       " 3714.0,\n",
       " 3685.0,\n",
       " 3658.0,\n",
       " 3654.0,\n",
       " 3624.0,\n",
       " 3565.0,\n",
       " 3535.0,\n",
       " 3533.0,\n",
       " 3420.0,\n",
       " 3387.0,\n",
       " 3383.0,\n",
       " 3361.0,\n",
       " 3357.0,\n",
       " 3345.0,\n",
       " 3331.0,\n",
       " 3315.0,\n",
       " 3234.0,\n",
       " 3229.0,\n",
       " 3228.0,\n",
       " 3198.0,\n",
       " 3190.0,\n",
       " 3168.0,\n",
       " 3163.0,\n",
       " 3154.0,\n",
       " 3100.0,\n",
       " 3074.0,\n",
       " 3062.0,\n",
       " 3062.0,\n",
       " 3046.0,\n",
       " 3045.0,\n",
       " 3029.0,\n",
       " 3010.0,\n",
       " 2991.0,\n",
       " 2967.0,\n",
       " 2952.0,\n",
       " 2944.0,\n",
       " 2934.0,\n",
       " 2932.0,\n",
       " 2928.0,\n",
       " 2889.0,\n",
       " 2861.0,\n",
       " 2836.0,\n",
       " 2829.0,\n",
       " 2807.0,\n",
       " 2798.0,\n",
       " 2793.0,\n",
       " 2793.0,\n",
       " 2780.0,\n",
       " 2773.0,\n",
       " 2749.0,\n",
       " 2747.0,\n",
       " 2733.0,\n",
       " 2731.0,\n",
       " 2720.0,\n",
       " 2718.0,\n",
       " 2705.0,\n",
       " 2689.0,\n",
       " 2689.0,\n",
       " 2688.0,\n",
       " 2685.0,\n",
       " 2682.0,\n",
       " 2674.0,\n",
       " 2673.0,\n",
       " 2667.0,\n",
       " 2656.0,\n",
       " 2622.0,\n",
       " 2562.0,\n",
       " 2531.0,\n",
       " 2528.0,\n",
       " 2509.0,\n",
       " 2507.0]"
      ]
     },
     "execution_count": 53,
     "metadata": {},
     "output_type": "execute_result"
    }
   ],
   "source": [
    "sorted(degrees, reverse=True)[:100]"
   ]
  },
  {
   "cell_type": "markdown",
   "metadata": {},
   "source": [
    "### (g) degree-clustering coefficient relation (plot as scatter di vs ci)"
   ]
  },
  {
   "cell_type": "code",
   "execution_count": null,
   "metadata": {},
   "outputs": [],
   "source": [
    "# %%time\n",
    "\n",
    "degree_clustering = defaultdict(list)\n",
    "for ind, i in enumerate(degrees):\n",
    "    degree_clustering[int(i)].append(clusterings[ind])\n",
    "x = []\n",
    "y = []\n",
    "for i in degree_clustering:\n",
    "    x.append(i)\n",
    "    y.append(np.mean(degree_clustering[i]))\n",
    "x = np.array(x) \n",
    "y = np.array(y) \n",
    "\n",
    "plt.scatter(x,y)\n",
    "plt.title('degree clustering plot')\n",
    "plt.xlabel('degree')\n",
    "plt.ylabel('average local clustering')\n",
    "plt.show()"
   ]
  },
  {
   "cell_type": "markdown",
   "metadata": {},
   "source": [
    "# p2"
   ]
  },
  {
   "cell_type": "code",
   "execution_count": 232,
   "metadata": {},
   "outputs": [],
   "source": [
    "m = S.nnz // num_node // 2\n",
    "initial_num_node = max(4, m)\n",
    "t = num_node - initial_num_node"
   ]
  },
  {
   "cell_type": "code",
   "execution_count": 233,
   "metadata": {},
   "outputs": [
    {
     "name": "stderr",
     "output_type": "stream",
     "text": [
      "\n",
      "\n",
      "\n",
      "\n",
      "\n",
      "  0%|                                                                                        | 0/23125 [00:00<?, ?it/s]\n",
      "\n",
      "\n",
      "\n",
      "\n",
      "  1%|▌                                                                           | 189/23125 [00:00<00:12, 1875.61it/s]\n",
      "\n",
      "\n",
      "\n",
      "\n",
      "  2%|█▎                                                                          | 386/23125 [00:00<00:11, 1898.81it/s]\n",
      "\n",
      "\n",
      "\n",
      "\n",
      "  2%|█▉                                                                          | 576/23125 [00:00<00:11, 1895.16it/s]\n",
      "\n",
      "\n",
      "\n",
      "\n",
      "  3%|██▍                                                                         | 756/23125 [00:00<00:12, 1861.34it/s]\n",
      "\n",
      "\n",
      "\n",
      "\n",
      "  4%|███▏                                                                        | 952/23125 [00:00<00:11, 1885.70it/s]\n",
      "\n",
      "\n",
      "\n",
      "\n",
      "  5%|███▋                                                                       | 1132/23125 [00:00<00:11, 1855.15it/s]\n",
      "\n",
      "\n",
      "\n",
      "\n",
      "  6%|████▎                                                                      | 1338/23125 [00:00<00:11, 1908.19it/s]\n",
      "\n",
      "\n",
      "\n",
      "\n",
      "  7%|█████                                                                      | 1544/23125 [00:00<00:11, 1947.29it/s]\n",
      "\n",
      "\n",
      "\n",
      "\n",
      "  8%|█████▋                                                                     | 1751/23125 [00:00<00:10, 1978.54it/s]\n",
      "\n",
      "\n",
      "\n",
      "\n",
      "  8%|██████▎                                                                    | 1942/23125 [00:01<00:10, 1947.12it/s]\n",
      "\n",
      "\n",
      "\n",
      "\n",
      "  9%|██████▉                                                                    | 2132/23125 [00:01<00:10, 1922.36it/s]\n",
      "\n",
      "\n",
      "\n",
      "\n",
      " 10%|███████▌                                                                   | 2339/23125 [00:01<00:10, 1960.37it/s]\n",
      "\n",
      "\n",
      "\n",
      "\n",
      " 11%|████████▏                                                                  | 2533/23125 [00:01<00:10, 1932.42it/s]\n",
      "\n",
      "\n",
      "\n",
      "\n",
      " 12%|████████▊                                                                  | 2731/23125 [00:01<00:10, 1942.32it/s]\n",
      "\n",
      "\n",
      "\n",
      "\n",
      " 13%|█████████▌                                                                 | 2938/23125 [00:01<00:10, 1974.77it/s]\n",
      "\n",
      "\n",
      "\n",
      "\n",
      " 14%|██████████▏                                                                | 3143/23125 [00:01<00:10, 1992.68it/s]\n",
      "\n",
      "\n",
      "\n",
      "\n",
      " 14%|██████████▊                                                                | 3342/23125 [00:01<00:10, 1946.79it/s]\n",
      "\n",
      "\n",
      "\n",
      "\n",
      " 15%|███████████▍                                                               | 3537/23125 [00:01<00:10, 1943.29it/s]\n",
      "\n",
      "\n",
      "\n",
      "\n",
      " 16%|████████████                                                               | 3732/23125 [00:01<00:10, 1935.47it/s]\n",
      "\n",
      "\n",
      "\n",
      "\n",
      " 17%|████████████▋                                                              | 3931/23125 [00:02<00:09, 1947.35it/s]\n",
      "\n",
      "\n",
      "\n",
      "\n",
      " 18%|█████████████▍                                                             | 4126/23125 [00:02<00:09, 1904.13it/s]\n",
      "\n",
      "\n",
      "\n",
      "\n",
      " 19%|██████████████                                                             | 4317/23125 [00:02<00:09, 1895.89it/s]\n",
      "\n",
      "\n",
      "\n",
      "\n",
      " 19%|██████████████▌                                                            | 4508/23125 [00:02<00:09, 1898.43it/s]\n",
      "\n",
      "\n",
      "\n",
      "\n",
      " 20%|███████████████▎                                                           | 4705/23125 [00:02<00:09, 1915.21it/s]\n",
      "\n",
      "\n",
      "\n",
      "\n",
      " 21%|███████████████▉                                                           | 4899/23125 [00:02<00:09, 1918.41it/s]\n",
      "\n",
      "\n",
      "\n",
      "\n",
      " 22%|████████████████▌                                                          | 5091/23125 [00:02<00:09, 1897.25it/s]\n",
      "\n",
      "\n",
      "\n",
      "\n",
      " 23%|█████████████████▏                                                         | 5309/23125 [00:02<00:09, 1972.78it/s]\n",
      "\n",
      "\n",
      "\n",
      "\n",
      " 24%|█████████████████▊                                                         | 5508/23125 [00:02<00:09, 1940.06it/s]\n",
      "\n",
      "\n",
      "\n",
      "\n",
      " 25%|██████████████████▍                                                        | 5704/23125 [00:02<00:08, 1940.26it/s]\n",
      "\n",
      "\n",
      "\n",
      "\n",
      " 26%|███████████████████▏                                                       | 5915/23125 [00:03<00:08, 1984.14it/s]\n",
      "\n",
      "\n",
      "\n",
      "\n",
      " 26%|███████████████████▊                                                       | 6123/23125 [00:03<00:08, 2007.77it/s]\n",
      "\n",
      "\n",
      "\n",
      "\n",
      " 27%|████████████████████▌                                                      | 6338/23125 [00:03<00:08, 2044.30it/s]\n",
      "\n",
      "\n",
      "\n",
      "\n",
      " 28%|█████████████████████▏                                                     | 6547/23125 [00:03<00:08, 2053.21it/s]\n",
      "\n",
      "\n",
      "\n",
      "\n",
      " 29%|█████████████████████▉                                                     | 6757/23125 [00:03<00:07, 2062.58it/s]\n",
      "\n",
      "\n",
      "\n",
      "\n",
      " 30%|██████████████████████▌                                                    | 6964/23125 [00:03<00:07, 2054.18it/s]\n",
      "\n",
      "\n",
      "\n",
      "\n",
      " 31%|███████████████████████▎                                                   | 7170/23125 [00:03<00:07, 2009.67it/s]\n",
      "\n",
      "\n",
      "\n",
      "\n",
      " 32%|███████████████████████▉                                                   | 7375/23125 [00:03<00:07, 2017.01it/s]\n",
      "\n",
      "\n",
      "\n",
      "\n",
      " 33%|████████████████████████▌                                                  | 7579/23125 [00:03<00:07, 2019.48it/s]\n",
      "\n",
      "\n",
      "\n",
      "\n",
      " 34%|█████████████████████████▏                                                 | 7782/23125 [00:03<00:07, 2011.81it/s]\n",
      "\n",
      "\n",
      "\n",
      "\n",
      " 35%|█████████████████████████▉                                                 | 7986/23125 [00:04<00:07, 2015.96it/s]\n",
      "\n",
      "\n",
      "\n",
      "\n",
      " 35%|██████████████████████████▌                                                | 8188/23125 [00:04<00:07, 2013.89it/s]\n",
      "\n",
      "\n",
      "\n",
      "\n",
      " 36%|███████████████████████████▏                                               | 8390/23125 [00:04<00:07, 2005.34it/s]\n",
      "\n",
      "\n",
      "\n",
      "\n",
      " 37%|███████████████████████████▉                                               | 8600/23125 [00:04<00:07, 2032.51it/s]\n",
      "\n",
      "\n",
      "\n",
      "\n",
      " 38%|████████████████████████████▌                                              | 8808/23125 [00:04<00:07, 2045.09it/s]\n",
      "\n",
      "\n",
      "\n",
      "\n",
      " 39%|█████████████████████████████▏                                             | 9013/23125 [00:04<00:07, 1964.37it/s]\n",
      "\n",
      "\n",
      "\n",
      "\n",
      " 40%|█████████████████████████████▉                                             | 9214/23125 [00:04<00:07, 1977.25it/s]\n",
      "\n",
      "\n",
      "\n",
      "\n",
      " 41%|██████████████████████████████▌                                            | 9423/23125 [00:04<00:06, 2005.55it/s]\n",
      "\n",
      "\n",
      "\n",
      "\n",
      " 42%|███████████████████████████████▏                                           | 9629/23125 [00:04<00:06, 2017.39it/s]\n",
      "\n",
      "\n",
      "\n",
      "\n",
      " 43%|███████████████████████████████▉                                           | 9832/23125 [00:04<00:06, 2016.54it/s]\n",
      "\n",
      "\n",
      "\n",
      "\n",
      " 43%|████████████████████████████████                                          | 10034/23125 [00:05<00:06, 2001.45it/s]\n",
      "\n",
      "\n",
      "\n",
      "\n",
      " 44%|████████████████████████████████▊                                         | 10235/23125 [00:05<00:06, 1958.61it/s]\n",
      "\n",
      "\n",
      "\n",
      "\n",
      " 45%|█████████████████████████████████▍                                        | 10432/23125 [00:05<00:06, 1929.06it/s]\n",
      "\n",
      "\n",
      "\n",
      "\n",
      " 46%|██████████████████████████████████                                        | 10626/23125 [00:05<00:06, 1899.88it/s]\n",
      "\n",
      "\n",
      "\n",
      "\n",
      " 47%|██████████████████████████████████▋                                       | 10835/23125 [00:05<00:06, 1949.39it/s]\n",
      "\n",
      "\n",
      "\n",
      "\n",
      " 48%|███████████████████████████████████▎                                      | 11031/23125 [00:05<00:06, 1950.36it/s]\n",
      "\n",
      "\n",
      "\n",
      "\n",
      " 49%|███████████████████████████████████▉                                      | 11234/23125 [00:05<00:06, 1971.62it/s]\n",
      "\n",
      "\n",
      "\n",
      "\n",
      " 49%|████████████████████████████████████▌                                     | 11432/23125 [00:05<00:06, 1896.51it/s]\n",
      "\n",
      "\n",
      "\n",
      "\n",
      " 50%|█████████████████████████████████████▏                                    | 11623/23125 [00:05<00:06, 1879.51it/s]\n",
      "\n",
      "\n",
      "\n",
      "\n",
      " 51%|█████████████████████████████████████▊                                    | 11830/23125 [00:06<00:05, 1928.99it/s]\n",
      "\n",
      "\n",
      "\n",
      "\n",
      " 52%|██████████████████████████████████████▍                                   | 12031/23125 [00:06<00:05, 1948.96it/s]\n",
      "\n",
      "\n",
      "\n",
      "\n",
      " 53%|███████████████████████████████████████▏                                  | 12227/23125 [00:06<00:05, 1924.80it/s]\n",
      "\n",
      "\n",
      "\n",
      "\n",
      " 54%|███████████████████████████████████████▊                                  | 12441/23125 [00:06<00:05, 1980.65it/s]\n",
      "\n",
      "\n",
      "\n",
      "\n",
      " 55%|████████████████████████████████████████▍                                 | 12640/23125 [00:06<00:05, 1948.82it/s]\n",
      "\n",
      "\n",
      "\n",
      "\n",
      " 56%|█████████████████████████████████████████                                 | 12836/23125 [00:06<00:05, 1916.54it/s]\n",
      "\n",
      "\n",
      "\n",
      "\n",
      " 56%|█████████████████████████████████████████▋                                | 13043/23125 [00:06<00:05, 1958.81it/s]\n",
      "\n",
      "\n",
      "\n",
      "\n",
      " 57%|██████████████████████████████████████████▎                               | 13240/23125 [00:06<00:05, 1934.66it/s]\n",
      "\n",
      "\n",
      "\n",
      "\n",
      " 58%|██████████████████████████████████████████▉                               | 13434/23125 [00:06<00:05, 1932.24it/s]\n",
      "\n",
      "\n",
      "\n",
      "\n",
      " 59%|███████████████████████████████████████████▋                              | 13637/23125 [00:06<00:04, 1956.27it/s]\n",
      "\n",
      "\n",
      "\n",
      "\n",
      " 60%|████████████████████████████████████████████▎                             | 13833/23125 [00:07<00:04, 1918.74it/s]\n",
      "\n",
      "\n",
      "\n",
      "\n",
      " 61%|████████████████████████████████████████████▉                             | 14026/23125 [00:07<00:04, 1917.91it/s]\n",
      "\n",
      "\n",
      "\n",
      "\n",
      " 62%|█████████████████████████████████████████████▌                            | 14237/23125 [00:07<00:04, 1967.93it/s]\n",
      "\n",
      "\n",
      "\n",
      "\n",
      " 62%|██████████████████████████████████████████████▏                           | 14435/23125 [00:07<00:04, 1938.43it/s]\n",
      "\n",
      "\n",
      "\n",
      "\n",
      " 63%|██████████████████████████████████████████████▊                           | 14642/23125 [00:07<00:04, 1971.99it/s]\n",
      "\n",
      "\n",
      "\n",
      "\n",
      " 64%|███████████████████████████████████████████████▌                          | 14852/23125 [00:07<00:04, 2007.34it/s]\n",
      "\n",
      "\n",
      "\n",
      "\n",
      " 65%|████████████████████████████████████████████████▏                         | 15054/23125 [00:07<00:04, 1969.10it/s]\n",
      "\n",
      "\n",
      "\n",
      "\n",
      " 66%|████████████████████████████████████████████████▊                         | 15252/23125 [00:07<00:04, 1939.32it/s]\n",
      "\n",
      "\n",
      "\n",
      "\n",
      " 67%|█████████████████████████████████████████████████▍                        | 15464/23125 [00:07<00:03, 1986.33it/s]\n",
      "\n",
      "\n",
      "\n",
      "\n",
      " 68%|██████████████████████████████████████████████████                        | 15664/23125 [00:07<00:03, 1977.06it/s]\n",
      "\n",
      "\n",
      "\n",
      "\n",
      " 69%|██████████████████████████████████████████████████▊                       | 15863/23125 [00:08<00:03, 1957.29it/s]\n",
      "\n",
      "\n",
      "\n",
      "\n",
      " 69%|███████████████████████████████████████████████████▍                      | 16060/23125 [00:08<00:03, 1933.78it/s]\n",
      "\n",
      "\n",
      "\n",
      "\n",
      " 70%|████████████████████████████████████████████████████                      | 16273/23125 [00:08<00:03, 1984.83it/s]\n",
      "\n",
      "\n",
      "\n",
      "\n",
      " 71%|████████████████████████████████████████████████████▋                     | 16473/23125 [00:08<00:03, 1967.55it/s]\n",
      "\n",
      "\n",
      "\n",
      "\n",
      " 72%|█████████████████████████████████████████████████████▎                    | 16671/23125 [00:08<00:03, 1932.51it/s]\n",
      "\n",
      "\n",
      "\n",
      "\n",
      " 73%|█████████████████████████████████████████████████████▉                    | 16872/23125 [00:08<00:03, 1954.45it/s]\n",
      "\n",
      "\n",
      "\n",
      "\n",
      " 74%|██████████████████████████████████████████████████████▌                   | 17068/23125 [00:08<00:03, 1940.28it/s]\n",
      "\n",
      "\n",
      "\n",
      "\n",
      " 75%|███████████████████████████████████████████████████████▏                  | 17263/23125 [00:08<00:03, 1909.13it/s]\n",
      "\n",
      "\n",
      "\n",
      "\n",
      " 75%|███████████████████████████████████████████████████████▊                  | 17457/23125 [00:08<00:02, 1913.95it/s]\n",
      "\n",
      "\n",
      "\n",
      "\n",
      " 76%|████████████████████████████████████████████████████████▌                 | 17659/23125 [00:09<00:02, 1940.53it/s]\n",
      "\n",
      "\n",
      "\n",
      "\n",
      " 77%|█████████████████████████████████████████████████████████▏                | 17854/23125 [00:09<00:02, 1927.60it/s]\n",
      "\n",
      "\n",
      "\n",
      "\n",
      " 78%|█████████████████████████████████████████████████████████▊                | 18047/23125 [00:09<00:02, 1863.00it/s]\n",
      "\n",
      "\n",
      "\n",
      "\n",
      " 79%|██████████████████████████████████████████████████████████▍               | 18256/23125 [00:09<00:02, 1921.72it/s]\n",
      "\n",
      "\n",
      "\n",
      "\n",
      " 80%|███████████████████████████████████████████████████████████               | 18450/23125 [00:09<00:02, 1917.24it/s]\n",
      "\n",
      "\n",
      "\n",
      "\n",
      " 81%|███████████████████████████████████████████████████████████▋              | 18643/23125 [00:09<00:02, 1917.07it/s]\n",
      "\n",
      "\n",
      "\n",
      "\n",
      " 82%|████████████████████████████████████████████████████████████▎             | 18852/23125 [00:09<00:02, 1961.46it/s]\n",
      "\n",
      "\n",
      "\n",
      "\n",
      " 82%|████████████████████████████████████████████████████████████▉             | 19056/23125 [00:09<00:02, 1982.78it/s]\n",
      "\n",
      "\n",
      "\n",
      "\n",
      " 83%|█████████████████████████████████████████████████████████████▋            | 19260/23125 [00:09<00:01, 1999.24it/s]\n",
      "\n",
      "\n",
      "\n",
      "\n",
      " 84%|██████████████████████████████████████████████████████████████▎           | 19461/23125 [00:09<00:01, 1983.28it/s]\n",
      "\n",
      "\n",
      "\n",
      "\n",
      " 85%|██████████████████████████████████████████████████████████████▉           | 19671/23125 [00:10<00:01, 2012.67it/s]\n",
      "\n",
      "\n",
      "\n",
      "\n",
      " 86%|███████████████████████████████████████████████████████████████▌          | 19882/23125 [00:10<00:01, 2036.60it/s]\n",
      "\n",
      "\n",
      "\n",
      "\n",
      " 87%|████████████████████████████████████████████████████████████████▎         | 20087/23125 [00:10<00:01, 2035.97it/s]\n",
      "\n",
      "\n",
      "\n",
      "\n",
      " 88%|████████████████████████████████████████████████████████████████▉         | 20291/23125 [00:10<00:01, 2014.88it/s]\n",
      "\n",
      "\n",
      "\n",
      "\n",
      " 89%|█████████████████████████████████████████████████████████████████▌        | 20494/23125 [00:10<00:01, 2015.02it/s]\n",
      "\n",
      "\n",
      "\n",
      "\n",
      " 90%|██████████████████████████████████████████████████████████████████▏       | 20698/23125 [00:10<00:01, 2018.13it/s]\n",
      "\n",
      "\n",
      "\n",
      "\n",
      " 90%|██████████████████████████████████████████████████████████████████▉       | 20900/23125 [00:10<00:01, 2002.20it/s]\n",
      "\n",
      "\n",
      "\n",
      "\n",
      " 91%|███████████████████████████████████████████████████████████████████▌      | 21101/23125 [00:10<00:01, 1988.32it/s]\n",
      "\n",
      "\n",
      "\n",
      "\n",
      " 92%|████████████████████████████████████████████████████████████████████▏     | 21300/23125 [00:10<00:00, 1972.69it/s]\n",
      "\n",
      "\n",
      "\n",
      "\n",
      " 93%|████████████████████████████████████████████████████████████████████▊     | 21498/23125 [00:10<00:00, 1969.08it/s]\n",
      "\n",
      "\n",
      "\n",
      "\n",
      " 94%|█████████████████████████████████████████████████████████████████████▍    | 21695/23125 [00:11<00:00, 1930.03it/s]\n",
      "\n",
      "\n",
      "\n",
      "\n",
      " 95%|██████████████████████████████████████████████████████████████████████    | 21889/23125 [00:11<00:00, 1795.47it/s]\n",
      "\n",
      "\n",
      "\n",
      "\n",
      " 96%|██████████████████████████████████████████████████████████████████████▋   | 22087/23125 [00:11<00:00, 1843.16it/s]\n",
      "\n",
      "\n",
      "\n",
      "\n",
      " 96%|███████████████████████████████████████████████████████████████████████▎  | 22290/23125 [00:11<00:00, 1892.47it/s]\n",
      "\n",
      "\n",
      "\n",
      "\n",
      " 97%|███████████████████████████████████████████████████████████████████████▉  | 22481/23125 [00:11<00:00, 1855.00it/s]\n",
      "\n",
      "\n",
      "\n",
      "\n",
      " 98%|████████████████████████████████████████████████████████████████████████▌ | 22668/23125 [00:11<00:00, 1849.94it/s]\n",
      "\n",
      "\n",
      "\n",
      "\n",
      " 99%|█████████████████████████████████████████████████████████████████████████▏| 22859/23125 [00:11<00:00, 1863.56it/s]\n",
      "\n",
      "\n",
      "\n",
      "\n",
      "100%|█████████████████████████████████████████████████████████████████████████▊| 23060/23125 [00:11<00:00, 1901.26it/s]\n",
      "\n",
      "\n",
      "\n",
      "\n",
      "100%|██████████████████████████████████████████████████████████████████████████| 23125/23125 [00:11<00:00, 1953.88it/s]"
     ]
    }
   ],
   "source": [
    "S_ba = dok_matrix((num_node,num_node), dtype=float32)\n",
    "\n",
    "degree_ba = np.zeros(num_node)\n",
    "\n",
    "idx_ba = np.array(list(range(num_node)))\n",
    "\n",
    "for i in range(initial_num_node):\n",
    "    degree_ba[i] += initial_num_node\n",
    "    for j in range(initial_num_node):\n",
    "        S_ba[i,j] = 1\n",
    "        S_ba[j,i] = 1\n",
    "\n",
    "for i in tqdm(range(initial_num_node, initial_num_node + t)):\n",
    "    ns = np.random.choice(idx_ba, size=m, p=degree_ba/np.sum(degree_ba), replace=False).tolist()\n",
    "    for n in ns:\n",
    "        degree_ba[n] = degree_ba[n] + 1\n",
    "        S_ba[i,n] = 1\n",
    "        S_ba[n,i] = 1\n",
    "    degree_ba[i] += m"
   ]
  },
  {
   "cell_type": "code",
   "execution_count": 229,
   "metadata": {},
   "outputs": [],
   "source": [
    "S_ba = S_ba.tocsr()"
   ]
  },
  {
   "cell_type": "markdown",
   "metadata": {},
   "source": [
    "# report"
   ]
  },
  {
   "cell_type": "code",
   "execution_count": 242,
   "metadata": {},
   "outputs": [
    {
     "name": "stdout",
     "output_type": "stream",
     "text": [
      "\n",
      "Note: if you're in the IPython notebook, mpld3.show() is not the best command\n",
      "      to use. Consider using mpld3.display(), or mpld3.enable_notebook().\n",
      "      See more information at http://mpld3.github.io/quickstart.html .\n",
      "\n",
      "You must interrupt the kernel to end this command\n",
      "\n",
      "Serving to http://127.0.0.1:8889/    [Ctrl-C to exit]\n"
     ]
    },
    {
     "name": "stderr",
     "output_type": "stream",
     "text": [
      "127.0.0.1 - - [24/Sep/2019 00:27:21] \"GET / HTTP/1.1\" 200 -\n",
      "127.0.0.1 - - [24/Sep/2019 00:27:21] \"GET /d3.js HTTP/1.1\" 200 -\n",
      "127.0.0.1 - - [24/Sep/2019 00:27:21] \"GET /mpld3.js HTTP/1.1\" 200 -\n"
     ]
    },
    {
     "name": "stdout",
     "output_type": "stream",
     "text": [
      "\n",
      "stopping Server...\n"
     ]
    },
    {
     "data": {
      "image/png": "[encoded data removed]",
      "text/plain": [
       "<Figure size 432x288 with 1 Axes>"
      ]
     },
     "metadata": {
      "needs_background": "light"
     },
     "output_type": "display_data"
    }
   ],
   "source": [
    "import matplotlib.pyplot as plt\n",
    "import matplotlib.image as mpimg\n",
    "img=plt.imread('results/protein_degreecorr.png')\n",
    "imgplot = plt.imshow(img)\n",
    "mpld3.show()"
   ]
  },
  {
   "cell_type": "code",
   "execution_count": null,
   "metadata": {},
   "outputs": [],
   "source": []
  },
  {
   "cell_type": "code",
   "execution_count": 235,
   "metadata": {},
   "outputs": [
    {
     "name": "stdout",
     "output_type": "stream",
     "text": [
      "\n",
      "Note: if you're in the IPython notebook, mpld3.show() is not the best command\n",
      "      to use. Consider using mpld3.display(), or mpld3.enable_notebook().\n",
      "      See more information at http://mpld3.github.io/quickstart.html .\n",
      "\n",
      "You must interrupt the kernel to end this command\n",
      "\n",
      "Serving to http://127.0.0.1:8889/    [Ctrl-C to exit]\n"
     ]
    },
    {
     "name": "stderr",
     "output_type": "stream",
     "text": [
      "127.0.0.1 - - [24/Sep/2019 00:08:55] \"GET / HTTP/1.1\" 200 -\n",
      "127.0.0.1 - - [24/Sep/2019 00:08:55] \"GET /d3.js HTTP/1.1\" 200 -\n",
      "127.0.0.1 - - [24/Sep/2019 00:08:55] \"GET /mpld3.js HTTP/1.1\" 200 -\n",
      "127.0.0.1 - - [24/Sep/2019 00:08:55] code 404, message Not Found\n",
      "127.0.0.1 - - [24/Sep/2019 00:08:55] \"GET /favicon.ico HTTP/1.1\" 404 -\n",
      "127.0.0.1 - - [24/Sep/2019 00:09:07] \"GET / HTTP/1.1\" 200 -\n",
      "127.0.0.1 - - [24/Sep/2019 00:09:07] \"GET /d3.js HTTP/1.1\" 200 -\n",
      "127.0.0.1 - - [24/Sep/2019 00:09:07] \"GET /mpld3.js HTTP/1.1\" 200 -\n"
     ]
    },
    {
     "name": "stdout",
     "output_type": "stream",
     "text": [
      "\n",
      "stopping Server...\n"
     ]
    },
    {
     "data": {
      "image/png": "[encoded data removed]",
      "text/plain": [
       "<Figure size 432x288 with 1 Axes>"
      ]
     },
     "metadata": {
      "needs_background": "light"
     },
     "output_type": "display_data"
    }
   ],
   "source": [
    "import matplotlib.pyplot as plt, mpld3\n",
    "plt.plot([3,1,4,1,5], 'ks-', mec='w', mew=5, ms=20)\n",
    "mpld3.show()"
   ]
  },
  {
   "cell_type": "code",
   "execution_count": null,
   "metadata": {},
   "outputs": [],
   "source": []
  }
 ],
 "metadata": {
  "kernelspec": {
   "display_name": "Python 3",
   "language": "python",
   "name": "python3"
  },
  "language_info": {
   "codemirror_mode": {
    "name": "ipython",
    "version": 3
   },
   "file_extension": ".py",
   "mimetype": "text/x-python",
   "name": "python",
   "nbconvert_exporter": "python",
   "pygments_lexer": "ipython3",
   "version": "3.7.3"
  }
 },
 "nbformat": 4,
 "nbformat_minor": 4
}
