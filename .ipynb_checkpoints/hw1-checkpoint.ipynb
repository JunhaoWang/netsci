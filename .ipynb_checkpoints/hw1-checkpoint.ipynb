{
 "cells": [
  {
   "cell_type": "markdown",
   "metadata": {},
   "source": [
    "# import data"
   ]
  },
  {
   "cell_type": "code",
   "execution_count": 3,
   "metadata": {},
   "outputs": [],
   "source": [
    "import numpy as np"
   ]
  },
  {
   "cell_type": "code",
   "execution_count": 4,
   "metadata": {},
   "outputs": [],
   "source": [
    "with open('datasets/collaboration.edgelist.txt', 'r') as f:\n",
    "    txt = f.readlines()\n",
    "    txt = list(map(lambda x: x.replace('\\n', '').split('\\t'), txt))\n",
    "    txt = list(map(lambda x: [int(x[0]), int(x[1])], txt))\n",
    "    txt = np.array(txt)"
   ]
  },
  {
   "cell_type": "code",
   "execution_count": 9,
   "metadata": {},
   "outputs": [],
   "source": [
    "num_node = np.max(txt) + 1"
   ]
  },
  {
   "cell_type": "code",
   "execution_count": 14,
   "metadata": {},
   "outputs": [],
   "source": [
    "from scipy.sparse import dok_matrix\n",
    "from scipy import float32\n",
    "S = dok_matrix((num_node,num_node), dtype=float32)\n",
    "for i in txt:\n",
    "    S[i[0],i[1]] = 1.\n",
    "S = S.tocsr()"
   ]
  },
  {
   "cell_type": "markdown",
   "metadata": {},
   "source": [
    "# measures"
   ]
  },
  {
   "cell_type": "markdown",
   "metadata": {},
   "source": [
    "(a) the degree distribution (fit a line and find the slope),\n",
    "\n",
    "(b) clustering coefficient distribution (compute the average as well),\n",
    "\n",
    "(c) shortest paths distribution (compute the average as well),\n",
    "\n",
    "(d) number of connected components, the portion of nodes that are in the GCC\n",
    "\n",
    "(e) eigenvalue distribution (compute the spectral gap),\n",
    "\n",
    "(f) degree correlations (plot as scatter di vs dj , also report the overall correlation).\n",
    "\n",
    "(g) degree-clustering coefficient relation (plot as scatter di vs ci)"
   ]
  },
  {
   "cell_type": "markdown",
   "metadata": {},
   "source": [
    "### (a) degree distribution"
   ]
  },
  {
   "cell_type": "code",
   "execution_count": 22,
   "metadata": {},
   "outputs": [],
   "source": [
    "degrees = np.asarray(S.sum(axis=1)).reshape(-1)"
   ]
  },
  {
   "cell_type": "code",
   "execution_count": 23,
   "metadata": {},
   "outputs": [],
   "source": [
    "from collections import Counter"
   ]
  },
  {
   "cell_type": "code",
   "execution_count": 108,
   "metadata": {},
   "outputs": [],
   "source": [
    "degree_counts = np.array([[np.log(d + 1), np.log(c)] for (d, c) in  Counter(degrees).items()])"
   ]
  },
  {
   "cell_type": "code",
   "execution_count": 109,
   "metadata": {},
   "outputs": [],
   "source": [
    "import matplotlib.pyplot as plt"
   ]
  },
  {
   "cell_type": "code",
   "execution_count": 110,
   "metadata": {},
   "outputs": [],
   "source": [
    "def least_squares(x, y):\n",
    "    x_ = np.concatenate((x, np.ones(x.shape)), axis=1)\n",
    "    return np.dot(np.linalg.inv(np.dot(x_.T, x_)), np.dot(x_.T, y))"
   ]
  },
  {
   "cell_type": "code",
   "execution_count": 192,
   "metadata": {},
   "outputs": [],
   "source": [
    "x, y = degree_counts[:,0].reshape(-1,1), degree_counts[:,1].reshape(-1,1)"
   ]
  },
  {
   "cell_type": "code",
   "execution_count": 193,
   "metadata": {},
   "outputs": [],
   "source": [
    "[slope, bias] = least_squares(x, y).reshape(-1).tolist()"
   ]
  },
  {
   "cell_type": "code",
   "execution_count": 194,
   "metadata": {},
   "outputs": [],
   "source": [
    "def infer_y(x, slope, bias):\n",
    "    return x * slope + bias"
   ]
  },
  {
   "cell_type": "code",
   "execution_count": 195,
   "metadata": {},
   "outputs": [],
   "source": [
    "v_infer_y = np.vectorize(lambda x: infer_y(x, slope, bias))"
   ]
  },
  {
   "cell_type": "code",
   "execution_count": 196,
   "metadata": {},
   "outputs": [],
   "source": [
    "inferred_y = v_infer_y(x)"
   ]
  },
  {
   "cell_type": "code",
   "execution_count": 199,
   "metadata": {},
   "outputs": [
    {
     "data": {
      "image/png": "[encoded data removed]",
      "text/plain": [
       "<Figure size 432x288 with 1 Axes>"
      ]
     },
     "metadata": {
      "needs_background": "light"
     },
     "output_type": "display_data"
    }
   ],
   "source": [
    "plt.scatter(x, y)\n",
    "plt.plot(x, inferred_y, c='orange')\n",
    "plt.text(.1, .1, 'slope: {}, bias: {}'.format(round(slope, 2), round(bias, 2)), \n",
    "         fontsize=12)\n",
    "plt.xlabel('log(degree+1)')\n",
    "plt.ylabel('log(count)')\n",
    "plt.title('log log degree distribution plot')\n",
    "plt.show()"
   ]
  },
  {
   "cell_type": "markdown",
   "metadata": {},
   "source": [
    "### (b) clustering coefficients"
   ]
  },
  {
   "cell_type": "code",
   "execution_count": 174,
   "metadata": {},
   "outputs": [],
   "source": [
    "S_3 = S.dot(S).dot(S)"
   ]
  },
  {
   "cell_type": "code",
   "execution_count": 175,
   "metadata": {},
   "outputs": [
    {
     "name": "stderr",
     "output_type": "stream",
     "text": [
      "/usr/local/lib/python3.5/dist-packages/ipykernel_launcher.py:1: RuntimeWarning: invalid value encountered in true_divide\n",
      "  \"\"\"Entry point for launching an IPython kernel.\n"
     ]
    }
   ],
   "source": [
    "clusterings = np.nan_to_num(S_3.diagonal() / (degrees * (degrees - 1)))"
   ]
  },
  {
   "cell_type": "code",
   "execution_count": 186,
   "metadata": {},
   "outputs": [],
   "source": [
    "clustering_mean = np.mean(clusterings)"
   ]
  },
  {
   "cell_type": "code",
   "execution_count": 177,
   "metadata": {},
   "outputs": [],
   "source": [
    "clustering_counts = np.array([[np.log(cl + 1), np.log(c)] for (cl, c) in  Counter(clusterings).items()])"
   ]
  },
  {
   "cell_type": "code",
   "execution_count": 201,
   "metadata": {},
   "outputs": [],
   "source": [
    "x, y = clustering_counts[:,0].reshape(-1,1), clustering_counts[:,1].reshape(-1,1)"
   ]
  },
  {
   "cell_type": "code",
   "execution_count": 205,
   "metadata": {},
   "outputs": [
    {
     "data": {
      "image/png": "[encoded data removed]",
      "text/plain": [
       "<Figure size 432x288 with 1 Axes>"
      ]
     },
     "metadata": {
      "needs_background": "light"
     },
     "output_type": "display_data"
    }
   ],
   "source": [
    "plt.scatter(x, y)\n",
    "plt.text(x[0], y[0]  , 'log local clustering mean: {}'.format(round(clustering_mean,2)), \n",
    "         fontsize=12)\n",
    "plt.xlabel('log(local clustering+1)')\n",
    "plt.ylabel('log(count)')\n",
    "plt.title('log log local clustering distribution plot')\n",
    "plt.show()"
   ]
  },
  {
   "cell_type": "markdown",
   "metadata": {},
   "source": [
    "### (c) shortest path distribution"
   ]
  },
  {
   "cell_type": "code",
   "execution_count": 250,
   "metadata": {},
   "outputs": [],
   "source": [
    "from collections import defaultdict"
   ]
  },
  {
   "cell_type": "code",
   "execution_count": 251,
   "metadata": {},
   "outputs": [],
   "source": [
    "row_nonzero, col_nonzero = S.nonzero()"
   ]
  },
  {
   "cell_type": "code",
   "execution_count": 252,
   "metadata": {},
   "outputs": [],
   "source": [
    "aja_list = defaultdict(list)"
   ]
  },
  {
   "cell_type": "code",
   "execution_count": 253,
   "metadata": {},
   "outputs": [],
   "source": [
    "for ind, i in enumerate(row_nonzero):\n",
    "    aja_list[i].append(col_nonzero[ind])"
   ]
  },
  {
   "cell_type": "code",
   "execution_count": 254,
   "metadata": {},
   "outputs": [],
   "source": [
    "from collections import deque"
   ]
  },
  {
   "cell_type": "code",
   "execution_count": 259,
   "metadata": {},
   "outputs": [],
   "source": [
    "from tqdm import tqdm"
   ]
  },
  {
   "cell_type": "code",
   "execution_count": 260,
   "metadata": {},
   "outputs": [
    {
     "name": "stderr",
     "output_type": "stream",
     "text": [
      "100%|██████████| 23133/23133 [00:16<00:00, 1391.03it/s]\n"
     ]
    }
   ],
   "source": [
    "all_dist = defaultdict(dict)\n",
    "for i in tqdm(range(num_node)):\n",
    "    all_dist[i][i] = 0\n",
    "    neighs = aja_list[i]\n",
    "    queue = deque()\n",
    "    for j in neighs:\n",
    "        all_dist[i][j] = 1\n",
    "        queue.append((j, 1))\n",
    "    if queue:\n",
    "        while queue:\n",
    "            cur_node, cur_dis = queue.popleft()\n",
    "            neighs = aja_list[cur_node]\n",
    "            for j in neighs:\n",
    "                if j not in all_dist[i]:\n",
    "                    all_dist[i][j] = cur_dis + 1\n",
    "                    queue.append((j, cur_dis + 1))\n",
    " "
   ]
  },
  {
   "cell_type": "code",
   "execution_count": null,
   "metadata": {},
   "outputs": [],
   "source": []
  }
 ],
 "metadata": {
  "kernelspec": {
   "display_name": "Python 3",
   "language": "python",
   "name": "python3"
  },
  "language_info": {
   "codemirror_mode": {
    "name": "ipython",
    "version": 3
   },
   "file_extension": ".py",
   "mimetype": "text/x-python",
   "name": "python",
   "nbconvert_exporter": "python",
   "pygments_lexer": "ipython3",
   "version": "3.5.3"
  }
 },
 "nbformat": 4,
 "nbformat_minor": 4
}
