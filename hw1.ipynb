{
 "cells": [
  {
   "cell_type": "markdown",
   "metadata": {},
   "source": [
    "# import data"
   ]
  },
  {
   "cell_type": "code",
   "execution_count": 2,
   "metadata": {},
   "outputs": [],
   "source": [
    "import numpy as np"
   ]
  },
  {
   "cell_type": "code",
   "execution_count": 3,
   "metadata": {},
   "outputs": [],
   "source": [
    "with open('datasets/collaboration.edgelist.txt', 'r') as f:\n",
    "    txt = f.readlines()\n",
    "    txt = list(map(lambda x: x.replace('\\n', '').split('\\t'), txt))\n",
    "    txt = list(map(lambda x: [int(x[0]), int(x[1])], txt))\n",
    "    txt = np.array(txt)"
   ]
  },
  {
   "cell_type": "code",
   "execution_count": 4,
   "metadata": {},
   "outputs": [],
   "source": [
    "num_node = np.max(txt) + 1"
   ]
  },
  {
   "cell_type": "code",
   "execution_count": 5,
   "metadata": {},
   "outputs": [],
   "source": [
    "from scipy.sparse import dok_matrix\n",
    "from scipy import float32\n",
    "S = dok_matrix((num_node,num_node), dtype=float32)\n",
    "for i in txt:\n",
    "    S[i[0],i[1]] = 1.\n",
    "S = S.tocsr()"
   ]
  },
  {
   "cell_type": "markdown",
   "metadata": {},
   "source": [
    "# measures"
   ]
  },
  {
   "cell_type": "markdown",
   "metadata": {},
   "source": [
    "(a) the degree distribution (fit a line and find the slope),\n",
    "\n",
    "(b) clustering coefficient distribution (compute the average as well),\n",
    "\n",
    "(c) shortest paths distribution (compute the average as well),\n",
    "\n",
    "(d) number of connected components, the portion of nodes that are in the GCC\n",
    "\n",
    "(e) eigenvalue distribution (compute the spectral gap),\n",
    "\n",
    "(f) degree correlations (plot as scatter di vs dj , also report the overall correlation).\n",
    "\n",
    "(g) degree-clustering coefficient relation (plot as scatter di vs ci)"
   ]
  },
  {
   "cell_type": "markdown",
   "metadata": {},
   "source": [
    "### (a) degree distribution"
   ]
  },
  {
   "cell_type": "code",
   "execution_count": 34,
   "metadata": {},
   "outputs": [],
   "source": [
    "degrees = np.asarray(S.sum(axis=1)).reshape(-1)"
   ]
  },
  {
   "cell_type": "code",
   "execution_count": 23,
   "metadata": {},
   "outputs": [],
   "source": [
    "from collections import Counter"
   ]
  },
  {
   "cell_type": "code",
   "execution_count": 108,
   "metadata": {},
   "outputs": [],
   "source": [
    "degree_counts = np.array([[np.log(d + 1), np.log(c)] for (d, c) in  Counter(degrees).items()])"
   ]
  },
  {
   "cell_type": "code",
   "execution_count": 109,
   "metadata": {},
   "outputs": [],
   "source": [
    "import matplotlib.pyplot as plt"
   ]
  },
  {
   "cell_type": "code",
   "execution_count": 110,
   "metadata": {},
   "outputs": [],
   "source": [
    "def least_squares(x, y):\n",
    "    x_ = np.concatenate((x, np.ones(x.shape)), axis=1)\n",
    "    return np.dot(np.linalg.inv(np.dot(x_.T, x_)), np.dot(x_.T, y))"
   ]
  },
  {
   "cell_type": "code",
   "execution_count": 296,
   "metadata": {},
   "outputs": [],
   "source": [
    "x, y = degree_counts[:,0].reshape(-1,1), degree_counts[:,1].reshape(-1,1)"
   ]
  },
  {
   "cell_type": "code",
   "execution_count": 297,
   "metadata": {},
   "outputs": [],
   "source": [
    "[slope, bias] = least_squares(x, y).reshape(-1).tolist()"
   ]
  },
  {
   "cell_type": "code",
   "execution_count": 298,
   "metadata": {},
   "outputs": [],
   "source": [
    "def infer_y(x, slope, bias):\n",
    "    return x * slope + bias"
   ]
  },
  {
   "cell_type": "code",
   "execution_count": 299,
   "metadata": {},
   "outputs": [],
   "source": [
    "v_infer_y = np.vectorize(lambda x: infer_y(x, slope, bias))"
   ]
  },
  {
   "cell_type": "code",
   "execution_count": 300,
   "metadata": {},
   "outputs": [],
   "source": [
    "inferred_y = v_infer_y(x)"
   ]
  },
  {
   "cell_type": "code",
   "execution_count": 301,
   "metadata": {},
   "outputs": [
    {
     "data": {
      "image/png": "[encoded data removed]",
      "text/plain": [
       "<Figure size 432x288 with 1 Axes>"
      ]
     },
     "metadata": {
      "needs_background": "light"
     },
     "output_type": "display_data"
    }
   ],
   "source": [
    "plt.scatter(x, y)\n",
    "plt.plot(x, inferred_y, c='orange')\n",
    "plt.text(.1, .1, 'slope: {}, bias: {}'.format(round(slope, 2), round(bias, 2)), \n",
    "         fontsize=12)\n",
    "plt.xlabel('log(degree+1)')\n",
    "plt.ylabel('log(count)')\n",
    "plt.title('degree distribution plot')\n",
    "plt.show()"
   ]
  },
  {
   "cell_type": "markdown",
   "metadata": {},
   "source": [
    "### (b) clustering coefficients"
   ]
  },
  {
   "cell_type": "code",
   "execution_count": 174,
   "metadata": {},
   "outputs": [],
   "source": [
    "S_3 = S.dot(S).dot(S)"
   ]
  },
  {
   "cell_type": "code",
   "execution_count": 175,
   "metadata": {},
   "outputs": [
    {
     "name": "stderr",
     "output_type": "stream",
     "text": [
      "/usr/local/lib/python3.5/dist-packages/ipykernel_launcher.py:1: RuntimeWarning: invalid value encountered in true_divide\n",
      "  \"\"\"Entry point for launching an IPython kernel.\n"
     ]
    }
   ],
   "source": [
    "clusterings = np.nan_to_num(S_3.diagonal() / (degrees * (degrees - 1)))"
   ]
  },
  {
   "cell_type": "code",
   "execution_count": 186,
   "metadata": {},
   "outputs": [],
   "source": [
    "clustering_mean = np.mean(clusterings)"
   ]
  },
  {
   "cell_type": "code",
   "execution_count": 177,
   "metadata": {},
   "outputs": [],
   "source": [
    "clustering_counts = np.array([[cl, np.log(c)] \\\n",
    "    for (cl, c) in  Counter(clusterings).items()])\n",
    "\n",
    "\n"
   ]
  },
  {
   "cell_type": "code",
   "execution_count": 302,
   "metadata": {},
   "outputs": [],
   "source": [
    "x, y = clustering_counts[:,0].reshape(-1,1), \\\n",
    "    clustering_counts[:,1].reshape(-1,1)"
   ]
  },
  {
   "cell_type": "code",
   "execution_count": 303,
   "metadata": {},
   "outputs": [
    {
     "data": {
      "image/png": "[encoded data removed]",
      "text/plain": [
       "<Figure size 432x288 with 1 Axes>"
      ]
     },
     "metadata": {
      "needs_background": "light"
     },
     "output_type": "display_data"
    }
   ],
   "source": [
    "plt.scatter(x, y)\n",
    "plt.text(x[0], y[0]  , 'local clustering mean: {}'.format(round(clustering_mean,2)), \n",
    "         fontsize=12)\n",
    "plt.xlabel('local clustering')\n",
    "plt.ylabel('log(count)')\n",
    "plt.title('local clustering distribution plot')\n",
    "plt.show()"
   ]
  },
  {
   "cell_type": "markdown",
   "metadata": {},
   "source": [
    "### (c) shortest path distribution"
   ]
  },
  {
   "cell_type": "code",
   "execution_count": 250,
   "metadata": {},
   "outputs": [],
   "source": [
    "from collections import defaultdict"
   ]
  },
  {
   "cell_type": "code",
   "execution_count": 251,
   "metadata": {},
   "outputs": [],
   "source": [
    "row_nonzero, col_nonzero = S.nonzero()"
   ]
  },
  {
   "cell_type": "code",
   "execution_count": 252,
   "metadata": {},
   "outputs": [],
   "source": [
    "aja_list = defaultdict(list)"
   ]
  },
  {
   "cell_type": "code",
   "execution_count": 253,
   "metadata": {},
   "outputs": [],
   "source": [
    "for ind, i in enumerate(row_nonzero):\n",
    "    aja_list[i].append(col_nonzero[ind])"
   ]
  },
  {
   "cell_type": "code",
   "execution_count": 254,
   "metadata": {},
   "outputs": [],
   "source": [
    "from collections import deque"
   ]
  },
  {
   "cell_type": "code",
   "execution_count": 259,
   "metadata": {},
   "outputs": [],
   "source": [
    "from tqdm import tqdm"
   ]
  },
  {
   "cell_type": "code",
   "execution_count": 260,
   "metadata": {},
   "outputs": [
    {
     "name": "stderr",
     "output_type": "stream",
     "text": [
      "100%|██████████| 23133/23133 [00:16<00:00, 1391.03it/s]\n"
     ]
    }
   ],
   "source": [
    "all_dist = defaultdict(dict)\n",
    "for i in tqdm(range(num_node)):\n",
    "    all_dist[i][i] = 0\n",
    "    neighs = aja_list[i]\n",
    "    queue = deque()\n",
    "    for j in neighs:\n",
    "        all_dist[i][j] = 1\n",
    "        queue.append((j, 1))\n",
    "    if queue:\n",
    "        while queue:\n",
    "            cur_node, cur_dis = queue.popleft()\n",
    "            neighs = aja_list[cur_node]\n",
    "            for j in neighs:\n",
    "                if j not in all_dist[i]:\n",
    "                    all_dist[i][j] = cur_dis + 1\n",
    "                    queue.append((j, cur_dis + 1))\n",
    " "
   ]
  },
  {
   "cell_type": "code",
   "execution_count": 304,
   "metadata": {},
   "outputs": [],
   "source": [
    "all_dist_vals = []\n",
    "for i in all_dist:\n",
    "    temp = all_dist[i]\n",
    "    for j in temp:\n",
    "        all_dist_vals.append(temp[j])"
   ]
  },
  {
   "cell_type": "code",
   "execution_count": 314,
   "metadata": {},
   "outputs": [],
   "source": [
    "shortest_path_mean = np.mean(all_dist_vals)"
   ]
  },
  {
   "cell_type": "code",
   "execution_count": 306,
   "metadata": {},
   "outputs": [],
   "source": [
    "inf_dist_count = num_node * num_node - len(all_dist_vals)"
   ]
  },
  {
   "cell_type": "code",
   "execution_count": 307,
   "metadata": {},
   "outputs": [],
   "source": [
    "all_dist_val_counts = Counter(all_dist_vals)\n",
    "# all_dist_val_counts[num_node] = inf_dist_count"
   ]
  },
  {
   "cell_type": "code",
   "execution_count": 308,
   "metadata": {},
   "outputs": [],
   "source": [
    "all_dist_val_counts = np.array([[np.log(pl + 1), np.log(c)] \\\n",
    "    for (pl, c) in  all_dist_val_counts.items()])\n"
   ]
  },
  {
   "cell_type": "code",
   "execution_count": 309,
   "metadata": {},
   "outputs": [],
   "source": [
    "x, y = all_dist_val_counts[:,0].reshape(-1,1), all_dist_val_counts[:,1].reshape(-1,1)"
   ]
  },
  {
   "cell_type": "code",
   "execution_count": 315,
   "metadata": {},
   "outputs": [
    {
     "data": {
      "image/png": "[encoded data removed]",
      "text/plain": [
       "<Figure size 432x288 with 1 Axes>"
      ]
     },
     "metadata": {
      "needs_background": "light"
     },
     "output_type": "display_data"
    }
   ],
   "source": [
    "plt.scatter(x, y)\n",
    "plt.text(x[0], y[0] // 2, 'shortest path length mean: {}'.format(round(shortest_path_mean,2)), \n",
    "         fontsize=12)\n",
    "plt.xlabel('log(shortest path length+1)')\n",
    "plt.ylabel('log(count)')\n",
    "plt.title('all pair shortest path length distribution plot')\n",
    "plt.show()"
   ]
  },
  {
   "cell_type": "markdown",
   "metadata": {},
   "source": [
    "### (d) number of connected components, the portion of nodes that are in the GCC"
   ]
  },
  {
   "cell_type": "code",
   "execution_count": 316,
   "metadata": {},
   "outputs": [
    {
     "name": "stderr",
     "output_type": "stream",
     "text": [
      "100%|██████████| 23133/23133 [00:00<00:00, 221930.85it/s]\n"
     ]
    }
   ],
   "source": [
    "all_comp = {}\n",
    "base_comp = 0\n",
    "for i in tqdm(range(num_node)):\n",
    "    if i not in all_comp:\n",
    "        all_comp[i] = base_comp\n",
    "        neighs = aja_list[i]\n",
    "        queue = deque()\n",
    "        for j in neighs:\n",
    "            all_comp[j] = base_comp\n",
    "            queue.append((j, base_comp))\n",
    "        if queue:\n",
    "            while queue:\n",
    "                cur_node, cur_dis = queue.popleft()\n",
    "                neighs = aja_list[cur_node]\n",
    "                for j in neighs:\n",
    "                    if j not in all_comp:\n",
    "                        all_comp[j] = base_comp\n",
    "                        queue.append((j, base_comp))\n",
    "        base_comp += 1\n"
   ]
  },
  {
   "cell_type": "code",
   "execution_count": 323,
   "metadata": {},
   "outputs": [],
   "source": [
    "components = np.array(list(all_comp.values()))"
   ]
  },
  {
   "cell_type": "code",
   "execution_count": 327,
   "metadata": {},
   "outputs": [],
   "source": [
    "component_counter = Counter(components)"
   ]
  },
  {
   "cell_type": "code",
   "execution_count": 333,
   "metadata": {},
   "outputs": [
    {
     "name": "stdout",
     "output_type": "stream",
     "text": [
      "number of connected component:  4650\n",
      "portion of nodes in giant connected component:  0.05\n"
     ]
    }
   ],
   "source": [
    "print('number of connected component: ', len(component_counter))\n",
    "print('portion of nodes in giant connected component: ', round(max(component_counter.values()) / num_node, 2))"
   ]
  },
  {
   "cell_type": "markdown",
   "metadata": {},
   "source": [
    "### (e) eigenvalue distribution (compute the spectral gap)"
   ]
  },
  {
   "cell_type": "code",
   "execution_count": 14,
   "metadata": {},
   "outputs": [],
   "source": [
    "import scipy"
   ]
  },
  {
   "cell_type": "code",
   "execution_count": 32,
   "metadata": {},
   "outputs": [],
   "source": [
    "from scipy.sparse import linalg, diags"
   ]
  },
  {
   "cell_type": "code",
   "execution_count": 39,
   "metadata": {},
   "outputs": [],
   "source": [
    "degree_diagonal = diags(degrees, 0)"
   ]
  },
  {
   "cell_type": "code",
   "execution_count": 40,
   "metadata": {},
   "outputs": [],
   "source": [
    "laplacian = degree_diagonal  - S"
   ]
  },
  {
   "cell_type": "code",
   "execution_count": 47,
   "metadata": {},
   "outputs": [],
   "source": [
    "eigen_vals = linalg.eigsh(laplacian, k = num_node-1, return_eigenvectors=False)"
   ]
  },
  {
   "cell_type": "code",
   "execution_count": 48,
   "metadata": {},
   "outputs": [],
   "source": [
    "eigen_vals = sorted(eigen_vals, reverse=True)"
   ]
  },
  {
   "cell_type": "code",
   "execution_count": 67,
   "metadata": {},
   "outputs": [],
   "source": [
    "pos_eigen = [i for i in eigen_vals if i > 0]\n",
    "eigen_gap = pos_eigen[-1]"
   ]
  },
  {
   "cell_type": "code",
   "execution_count": 64,
   "metadata": {},
   "outputs": [],
   "source": [
    "import seaborn as sns\n",
    "import matplotlib.pyplot as plt"
   ]
  },
  {
   "cell_type": "code",
   "execution_count": 68,
   "metadata": {},
   "outputs": [
    {
     "data": {
      "image/png": "[encoded data removed]",
      "text/plain": [
       "<Figure size 432x288 with 1 Axes>"
      ]
     },
     "metadata": {
      "needs_background": "light"
     },
     "output_type": "display_data"
    }
   ],
   "source": [
    "sns.distplot(eigen_vals)\n",
    "plt.title('laplacian eigenvalue distribution')\n",
    "plt.text(40, .025, 'eigengap: {}'.format(round(eigen_gap,2)))\n",
    "plt.show()"
   ]
  },
  {
   "cell_type": "markdown",
   "metadata": {},
   "source": [
    "### (f) degree correlations (plot as scatter di vs dj , also report the overall correlation)."
   ]
  },
  {
   "cell_type": "code",
   "execution_count": null,
   "metadata": {},
   "outputs": [],
   "source": []
  }
 ],
 "metadata": {
  "kernelspec": {
   "display_name": "Python 3",
   "language": "python",
   "name": "python3"
  },
  "language_info": {
   "codemirror_mode": {
    "name": "ipython",
    "version": 3
   },
   "file_extension": ".py",
   "mimetype": "text/x-python",
   "name": "python",
   "nbconvert_exporter": "python",
   "pygments_lexer": "ipython3",
   "version": "3.5.3"
  }
 },
 "nbformat": 4,
 "nbformat_minor": 4
}
