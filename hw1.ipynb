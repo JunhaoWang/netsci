{
 "cells": [
  {
   "cell_type": "markdown",
   "metadata": {},
   "source": [
    "# import data"
   ]
  },
  {
   "cell_type": "code",
   "execution_count": 1,
   "metadata": {},
   "outputs": [],
   "source": [
    "import numpy as np\n",
    "\n",
    "with open('datasets/collaboration.edgelist.txt', 'r') as f:\n",
    "    txt = f.readlines()\n",
    "    txt = list(map(lambda x: x.replace('\\n', '').split('\\t'), txt))\n",
    "    txt = list(map(lambda x: [int(x[0]), int(x[1])], txt))\n",
    "    txt = np.array(txt)\n",
    "\n",
    "num_node = np.max(txt) + 1\n",
    "\n",
    "from scipy.sparse import dok_matrix, csr_matrix\n",
    "from scipy import float32\n",
    "S = dok_matrix((num_node,num_node), dtype=float32)\n",
    "for i in txt:\n",
    "    S[i[0],i[1]] = 1.\n",
    "S = S.tocsr()"
   ]
  },
  {
   "cell_type": "markdown",
   "metadata": {},
   "source": [
    "# measures"
   ]
  },
  {
   "cell_type": "markdown",
   "metadata": {},
   "source": [
    "(a) the degree distribution (fit a line and find the slope),\n",
    "\n",
    "(b) clustering coefficient distribution (compute the average as well),\n",
    "\n",
    "(c) shortest paths distribution (compute the average as well),\n",
    "\n",
    "(d) number of connected components, the portion of nodes that are in the GCC\n",
    "\n",
    "(e) eigenvalue distribution (compute the spectral gap),\n",
    "\n",
    "(f) degree correlations (plot as scatter di vs dj , also report the overall correlation).\n",
    "\n",
    "(g) degree-clustering coefficient relation (plot as scatter di vs ci)"
   ]
  },
  {
   "cell_type": "markdown",
   "metadata": {},
   "source": [
    "### (a) degree distribution"
   ]
  },
  {
   "cell_type": "code",
   "execution_count": 99,
   "metadata": {},
   "outputs": [
    {
     "data": {
      "image/png": "[encoded data removed]",
      "text/plain": [
       "<Figure size 432x288 with 1 Axes>"
      ]
     },
     "metadata": {
      "needs_background": "light"
     },
     "output_type": "display_data"
    },
    {
     "name": "stdout",
     "output_type": "stream",
     "text": [
      "Wall time: 126 ms\n"
     ]
    }
   ],
   "source": [
    "%%time\n",
    "\n",
    "degrees = np.asarray(S.sum(axis=1)).reshape(-1)\n",
    "\n",
    "from collections import Counter\n",
    "\n",
    "degree_counts = np.array([[np.log(d + 1), np.log(c)] for (d, c) in  Counter(degrees).items()])\n",
    "\n",
    "import matplotlib.pyplot as plt\n",
    "\n",
    "def least_squares(x, y):\n",
    "    x_ = np.concatenate((x, np.ones(x.shape)), axis=1)\n",
    "    return np.dot(np.linalg.inv(np.dot(x_.T, x_)), np.dot(x_.T, y))\n",
    "\n",
    "x, y = degree_counts[:,0].reshape(-1,1), degree_counts[:,1].reshape(-1,1)\n",
    "\n",
    "[slope, bias] = least_squares(x, y).reshape(-1).tolist()\n",
    "\n",
    "def infer_y(x, slope, bias):\n",
    "    return x * slope + bias\n",
    "\n",
    "v_infer_y = np.vectorize(lambda x: infer_y(x, slope, bias))\n",
    "\n",
    "inferred_y = v_infer_y(x)\n",
    "\n",
    "plt.scatter(x, y)\n",
    "plt.plot(x, inferred_y, c='orange')\n",
    "plt.text(.1, .1, 'slope: {}, bias: {}'.format(round(slope, 2), round(bias, 2)), \n",
    "         fontsize=12)\n",
    "plt.xlabel('log(degree+1)')\n",
    "plt.ylabel('log(count)')\n",
    "plt.title('degree distribution plot')\n",
    "plt.show()"
   ]
  },
  {
   "cell_type": "markdown",
   "metadata": {},
   "source": [
    "### (b) clustering coefficients"
   ]
  },
  {
   "cell_type": "code",
   "execution_count": 100,
   "metadata": {},
   "outputs": [
    {
     "name": "stderr",
     "output_type": "stream",
     "text": [
      "C:\\Users\\Junhao\\Anaconda3\\lib\\site-packages\\ipykernel_launcher.py:3: RuntimeWarning: invalid value encountered in true_divide\n",
      "  This is separate from the ipykernel package so we can avoid doing imports until\n"
     ]
    },
    {
     "data": {
      "image/png": "[encoded data removed]",
      "text/plain": [
       "<Figure size 432x288 with 1 Axes>"
      ]
     },
     "metadata": {
      "needs_background": "light"
     },
     "output_type": "display_data"
    },
    {
     "name": "stdout",
     "output_type": "stream",
     "text": [
      "Wall time: 193 ms\n"
     ]
    }
   ],
   "source": [
    "%%time\n",
    "\n",
    "S_3 = S.dot(S).dot(S)\n",
    "\n",
    "clusterings = np.nan_to_num(S_3.diagonal() / (degrees * (degrees - 1)))\n",
    "\n",
    "clustering_mean = np.mean(clusterings)\n",
    "\n",
    "clustering_counts = np.array([[cl, np.log(c)] \\\n",
    "    for (cl, c) in  Counter(clusterings).items()])\n",
    "\n",
    "\n",
    "\n",
    "\n",
    "x, y = clustering_counts[:,0].reshape(-1,1), \\\n",
    "    clustering_counts[:,1].reshape(-1,1)\n",
    "\n",
    "plt.scatter(x, y)\n",
    "plt.text(x[0], y[0]  , 'local clustering mean: {}'.format(round(clustering_mean,2)), \n",
    "         fontsize=12)\n",
    "plt.xlabel('local clustering')\n",
    "plt.ylabel('log(count)')\n",
    "plt.title('local clustering distribution plot')\n",
    "plt.show()"
   ]
  },
  {
   "cell_type": "markdown",
   "metadata": {},
   "source": [
    "### (c) shortest path distribution"
   ]
  },
  {
   "cell_type": "code",
   "execution_count": 101,
   "metadata": {},
   "outputs": [
    {
     "name": "stderr",
     "output_type": "stream",
     "text": [
      "100%|██████████████████████████████████████████████████████████████████████████| 23133/23133 [00:19<00:00, 1162.52it/s]\n"
     ]
    },
    {
     "data": {
      "image/png": "[encoded data removed]",
      "text/plain": [
       "<Figure size 432x288 with 1 Axes>"
      ]
     },
     "metadata": {
      "needs_background": "light"
     },
     "output_type": "display_data"
    },
    {
     "name": "stdout",
     "output_type": "stream",
     "text": [
      "Wall time: 25 s\n"
     ]
    }
   ],
   "source": [
    "%%time\n",
    "\n",
    "from collections import defaultdict\n",
    "\n",
    "row_nonzero, col_nonzero = S.nonzero()\n",
    "\n",
    "aja_list = defaultdict(list)\n",
    "\n",
    "for ind, i in enumerate(row_nonzero):\n",
    "    aja_list[i].append(col_nonzero[ind])\n",
    "\n",
    "from collections import deque\n",
    "\n",
    "from tqdm import tqdm\n",
    "\n",
    "all_dist = defaultdict(dict)\n",
    "for i in tqdm(range(num_node)):\n",
    "    all_dist[i][i] = 0\n",
    "    neighs = aja_list[i]\n",
    "    queue = deque()\n",
    "    for j in neighs:\n",
    "        all_dist[i][j] = 1\n",
    "        queue.append((j, 1))\n",
    "    if queue:\n",
    "        while queue:\n",
    "            cur_node, cur_dis = queue.popleft()\n",
    "            neighs = aja_list[cur_node]\n",
    "            for j in neighs:\n",
    "                if j not in all_dist[i]:\n",
    "                    all_dist[i][j] = cur_dis + 1\n",
    "                    queue.append((j, cur_dis + 1))\n",
    " \n",
    "all_dist_vals = []\n",
    "for i in all_dist:\n",
    "    temp = all_dist[i]\n",
    "    for j in temp:\n",
    "        all_dist_vals.append(temp[j])\n",
    "\n",
    "shortest_path_mean = np.mean(all_dist_vals)\n",
    "\n",
    "inf_dist_count = num_node * num_node - len(all_dist_vals)\n",
    "\n",
    "all_dist_val_counts = Counter(all_dist_vals)\n",
    "# all_dist_val_counts[num_node] = inf_dist_count\n",
    "\n",
    "all_dist_val_counts = np.array([[np.log(pl + 1), np.log(c)] \\\n",
    "    for (pl, c) in  all_dist_val_counts.items()])\n",
    "\n",
    "\n",
    "x, y = all_dist_val_counts[:,0].reshape(-1,1), all_dist_val_counts[:,1].reshape(-1,1)\n",
    "\n",
    "plt.scatter(x, y)\n",
    "plt.text(x[0], y[0] // 2, 'shortest path length mean: {}'.format(round(shortest_path_mean,2)), \n",
    "         fontsize=12)\n",
    "plt.xlabel('log(shortest path length+1)')\n",
    "plt.ylabel('log(count)')\n",
    "plt.title('all pair shortest path length distribution plot')\n",
    "plt.show()"
   ]
  },
  {
   "cell_type": "markdown",
   "metadata": {},
   "source": [
    "### (d) number of connected components, the portion of nodes that are in the GCC"
   ]
  },
  {
   "cell_type": "code",
   "execution_count": 102,
   "metadata": {},
   "outputs": [
    {
     "name": "stderr",
     "output_type": "stream",
     "text": [
      "100%|████████████████████████████████████████████████████████████████████████| 23133/23133 [00:00<00:00, 269704.78it/s]\n"
     ]
    },
    {
     "name": "stdout",
     "output_type": "stream",
     "text": [
      "number of connected component:  4650\n",
      "portion of nodes in giant connected component:  0.05\n",
      "Wall time: 101 ms\n"
     ]
    }
   ],
   "source": [
    "%%time\n",
    "\n",
    "all_comp = {}\n",
    "base_comp = 0\n",
    "for i in tqdm(range(num_node)):\n",
    "    if i not in all_comp:\n",
    "        all_comp[i] = base_comp\n",
    "        neighs = aja_list[i]\n",
    "        queue = deque()\n",
    "        for j in neighs:\n",
    "            all_comp[j] = base_comp\n",
    "            queue.append((j, base_comp))\n",
    "        if queue:\n",
    "            while queue:\n",
    "                cur_node, cur_dis = queue.popleft()\n",
    "                neighs = aja_list[cur_node]\n",
    "                for j in neighs:\n",
    "                    if j not in all_comp:\n",
    "                        all_comp[j] = base_comp\n",
    "                        queue.append((j, base_comp))\n",
    "        base_comp += 1\n",
    "\n",
    "\n",
    "components = np.array(list(all_comp.values()))\n",
    "\n",
    "component_counter = Counter(components)\n",
    "\n",
    "print('number of connected component: ', len(component_counter))\n",
    "print('portion of nodes in giant connected component: ', round(max(component_counter.values()) / num_node, 2))"
   ]
  },
  {
   "cell_type": "markdown",
   "metadata": {},
   "source": [
    "### (e) eigenvalue distribution (compute the spectral gap)"
   ]
  },
  {
   "cell_type": "code",
   "execution_count": 103,
   "metadata": {},
   "outputs": [
    {
     "ename": "KeyboardInterrupt",
     "evalue": "",
     "output_type": "error",
     "traceback": [
      "\u001b[1;31m---------------------------------------------------------------------------\u001b[0m",
      "\u001b[1;31mKeyboardInterrupt\u001b[0m                         Traceback (most recent call last)",
      "\u001b[1;32m<timed exec>\u001b[0m in \u001b[0;36m<module>\u001b[1;34m\u001b[0m\n",
      "\u001b[1;32m~\\Anaconda3\\lib\\site-packages\\scipy\\sparse\\linalg\\eigen\\arpack\\arpack.py\u001b[0m in \u001b[0;36meigsh\u001b[1;34m(A, k, M, sigma, which, v0, ncv, maxiter, tol, return_eigenvectors, Minv, OPinv, mode)\u001b[0m\n\u001b[0;32m   1665\u001b[0m     \u001b[1;32mwith\u001b[0m \u001b[0m_ARPACK_LOCK\u001b[0m\u001b[1;33m:\u001b[0m\u001b[1;33m\u001b[0m\u001b[1;33m\u001b[0m\u001b[0m\n\u001b[0;32m   1666\u001b[0m         \u001b[1;32mwhile\u001b[0m \u001b[1;32mnot\u001b[0m \u001b[0mparams\u001b[0m\u001b[1;33m.\u001b[0m\u001b[0mconverged\u001b[0m\u001b[1;33m:\u001b[0m\u001b[1;33m\u001b[0m\u001b[1;33m\u001b[0m\u001b[0m\n\u001b[1;32m-> 1667\u001b[1;33m             \u001b[0mparams\u001b[0m\u001b[1;33m.\u001b[0m\u001b[0miterate\u001b[0m\u001b[1;33m(\u001b[0m\u001b[1;33m)\u001b[0m\u001b[1;33m\u001b[0m\u001b[1;33m\u001b[0m\u001b[0m\n\u001b[0m\u001b[0;32m   1668\u001b[0m \u001b[1;33m\u001b[0m\u001b[0m\n\u001b[0;32m   1669\u001b[0m         \u001b[1;32mreturn\u001b[0m \u001b[0mparams\u001b[0m\u001b[1;33m.\u001b[0m\u001b[0mextract\u001b[0m\u001b[1;33m(\u001b[0m\u001b[0mreturn_eigenvectors\u001b[0m\u001b[1;33m)\u001b[0m\u001b[1;33m\u001b[0m\u001b[1;33m\u001b[0m\u001b[0m\n",
      "\u001b[1;32m~\\Anaconda3\\lib\\site-packages\\scipy\\sparse\\linalg\\eigen\\arpack\\arpack.py\u001b[0m in \u001b[0;36miterate\u001b[1;34m(self)\u001b[0m\n\u001b[0;32m    536\u001b[0m             self._arpack_solver(self.ido, self.bmat, self.which, self.k,\n\u001b[0;32m    537\u001b[0m                                 \u001b[0mself\u001b[0m\u001b[1;33m.\u001b[0m\u001b[0mtol\u001b[0m\u001b[1;33m,\u001b[0m \u001b[0mself\u001b[0m\u001b[1;33m.\u001b[0m\u001b[0mresid\u001b[0m\u001b[1;33m,\u001b[0m \u001b[0mself\u001b[0m\u001b[1;33m.\u001b[0m\u001b[0mv\u001b[0m\u001b[1;33m,\u001b[0m \u001b[0mself\u001b[0m\u001b[1;33m.\u001b[0m\u001b[0miparam\u001b[0m\u001b[1;33m,\u001b[0m\u001b[1;33m\u001b[0m\u001b[1;33m\u001b[0m\u001b[0m\n\u001b[1;32m--> 538\u001b[1;33m                                 self.ipntr, self.workd, self.workl, self.info)\n\u001b[0m\u001b[0;32m    539\u001b[0m \u001b[1;33m\u001b[0m\u001b[0m\n\u001b[0;32m    540\u001b[0m         \u001b[0mxslice\u001b[0m \u001b[1;33m=\u001b[0m \u001b[0mslice\u001b[0m\u001b[1;33m(\u001b[0m\u001b[0mself\u001b[0m\u001b[1;33m.\u001b[0m\u001b[0mipntr\u001b[0m\u001b[1;33m[\u001b[0m\u001b[1;36m0\u001b[0m\u001b[1;33m]\u001b[0m \u001b[1;33m-\u001b[0m \u001b[1;36m1\u001b[0m\u001b[1;33m,\u001b[0m \u001b[0mself\u001b[0m\u001b[1;33m.\u001b[0m\u001b[0mipntr\u001b[0m\u001b[1;33m[\u001b[0m\u001b[1;36m0\u001b[0m\u001b[1;33m]\u001b[0m \u001b[1;33m-\u001b[0m \u001b[1;36m1\u001b[0m \u001b[1;33m+\u001b[0m \u001b[0mself\u001b[0m\u001b[1;33m.\u001b[0m\u001b[0mn\u001b[0m\u001b[1;33m)\u001b[0m\u001b[1;33m\u001b[0m\u001b[1;33m\u001b[0m\u001b[0m\n",
      "\u001b[1;31mKeyboardInterrupt\u001b[0m: "
     ]
    }
   ],
   "source": [
    "%%time\n",
    "\n",
    "import scipy\n",
    "\n",
    "from scipy.sparse import linalg, diags\n",
    "\n",
    "degree_diagonal = diags(degrees, 0)\n",
    "\n",
    "laplacian = degree_diagonal  - S\n",
    "\n",
    "eigen_vals = linalg.eigsh(laplacian, k = num_node-1, return_eigenvectors=False)\n",
    "\n",
    "eigen_vals = sorted(eigen_vals, reverse=True)\n",
    "\n",
    "pos_eigen = [i for i in eigen_vals if i > 0]\n",
    "eigen_gap = pos_eigen[-1]\n",
    "\n",
    "import seaborn as sns\n",
    "import matplotlib.pyplot as plt\n",
    "\n",
    "sns.distplot(eigen_vals)\n",
    "plt.title('laplacian eigenvalue distribution')\n",
    "plt.text(40, .025, 'eigengap: {}'.format(round(eigen_gap,2)))\n",
    "plt.xlabel('eigenvalue')\n",
    "plt.ylabel('density')\n",
    "plt.show()"
   ]
  },
  {
   "cell_type": "markdown",
   "metadata": {},
   "source": [
    "### (f) degree correlations (plot as scatter di vs dj , also report the overall correlation)."
   ]
  },
  {
   "cell_type": "code",
   "execution_count": 104,
   "metadata": {},
   "outputs": [
    {
     "data": {
      "image/png": "[encoded data removed]",
      "text/plain": [
       "<Figure size 432x288 with 1 Axes>"
      ]
     },
     "metadata": {
      "needs_background": "light"
     },
     "output_type": "display_data"
    },
    {
     "name": "stdout",
     "output_type": "stream",
     "text": [
      "Wall time: 180 ms\n"
     ]
    }
   ],
   "source": [
    "%%time\n",
    "\n",
    "degree_vector = csr_matrix(degrees.reshape(-1, 1))\n",
    "\n",
    "avg_neighbor_degree = np.nan_to_num(np.asarray(S.dot(degree_vector) / degree_vector)).reshape(-1)\n",
    "\n",
    "degree_correlation = defaultdict(list)\n",
    "for ind, i in enumerate(degrees):\n",
    "    degree_correlation[int(i)].append(avg_neighbor_degree[ind])\n",
    "x = []\n",
    "y = []\n",
    "for i in degree_correlation:\n",
    "    x.append(i)\n",
    "    y.append(np.mean(degree_correlation[i]))\n",
    "x = np.array(x) \n",
    "y = np.array(y) \n",
    "\n",
    "[slope, bias] = least_squares(x.reshape(-1,1), y.reshape(-1,1)).reshape(-1).tolist()\n",
    "\n",
    "inferred_y = v_infer_y(x)\n",
    "\n",
    "plt.scatter(x,y)\n",
    "plt.plot(x, inferred_y, c='orange')\n",
    "plt.title('degree correlation plot')\n",
    "plt.xlabel('degree')\n",
    "plt.ylabel('average neighbour degree')\n",
    "plt.text(.1, .1, 'degree correlation coefficient: {}'.format(round(slope, 2)), \n",
    "         fontsize=12)\n",
    "plt.show()"
   ]
  },
  {
   "cell_type": "markdown",
   "metadata": {},
   "source": [
    "### (g) degree-clustering coefficient relation (plot as scatter di vs ci)"
   ]
  },
  {
   "cell_type": "code",
   "execution_count": 105,
   "metadata": {},
   "outputs": [
    {
     "data": {
      "image/png": "[encoded data removed]",
      "text/plain": [
       "<Figure size 432x288 with 1 Axes>"
      ]
     },
     "metadata": {
      "needs_background": "light"
     },
     "output_type": "display_data"
    },
    {
     "name": "stdout",
     "output_type": "stream",
     "text": [
      "Wall time: 155 ms\n"
     ]
    }
   ],
   "source": [
    "%%time\n",
    "\n",
    "degree_clustering = defaultdict(list)\n",
    "for ind, i in enumerate(degrees):\n",
    "    degree_clustering[int(i)].append(clusterings[ind])\n",
    "x = []\n",
    "y = []\n",
    "for i in degree_clustering:\n",
    "    x.append(i)\n",
    "    y.append(np.mean(degree_clustering[i]))\n",
    "x = np.array(x) \n",
    "y = np.array(y) \n",
    "\n",
    "plt.scatter(x,y)\n",
    "plt.title('degree clustering plot')\n",
    "plt.xlabel('degree')\n",
    "plt.ylabel('average local clustering')\n",
    "plt.show()"
   ]
  },
  {
   "cell_type": "code",
   "execution_count": null,
   "metadata": {},
   "outputs": [],
   "source": []
  }
 ],
 "metadata": {
  "kernelspec": {
   "display_name": "Python 3",
   "language": "python",
   "name": "python3"
  },
  "language_info": {
   "codemirror_mode": {
    "name": "ipython",
    "version": 3
   },
   "file_extension": ".py",
   "mimetype": "text/x-python",
   "name": "python",
   "nbconvert_exporter": "python",
   "pygments_lexer": "ipython3",
   "version": "3.7.3"
  }
 },
 "nbformat": 4,
 "nbformat_minor": 4
}
